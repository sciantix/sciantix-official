{
 "cells": [
  {
   "cell_type": "code",
   "execution_count": 1,
   "metadata": {},
   "outputs": [
    {
     "name": "stdout",
     "output_type": "stream",
     "text": [
      "139\n",
      "(139, 1)\n",
      "(16, 139, 139)\n",
      "(139,)\n",
      "(8,)\n",
      "(8, 8)\n",
      "(9900, 139)\n"
     ]
    }
   ],
   "source": [
    "import h5py\n",
    "\n",
    "# Apri il file in modalità lettura\n",
    "with h5py.File('checkpoint/matrici_RB.h5', 'r') as hf:\n",
    "    # Accedi ai dataset e ricrea le matrici\n",
    "    MM_RB = hf['MM_RB'][:]   #N_epsilon x N_epsilon\n",
    "    FF_RB = hf['FF_RB'][:]   #N_epsilon x 1\n",
    "    KK_RB = hf['KK_RB'][:]   #N_D+N_D x N_epsilon x N_epsilon\n",
    "    AA_RB = hf['AA_RB'][:]   #N_epsilon\n",
    "    ZZ_CO = hf['ZZ_CO'][:]   #N_D\n",
    "    II_CO = hf['II_CO'][:]   #N_D x N_D\n",
    "    basis = hf['basis'][:]   #mask_in_C x N_epsilon\n",
    "\n",
    "print(MM_RB.shape[0])\n",
    "print(FF_RB.shape)\n",
    "print(KK_RB.shape)\n",
    "print(AA_RB.shape)\n",
    "print(ZZ_CO.shape)\n",
    "print(II_CO.shape)\n",
    "print(basis.shape)"
   ]
  },
  {
   "cell_type": "code",
   "execution_count": null,
   "metadata": {},
   "outputs": [
    {
     "name": "stdout",
     "output_type": "stream",
     "text": [
      "(148, 148)\n",
      "(148, 1)\n",
      "(16, 148, 148)\n",
      "(148,)\n",
      "(9900, 148)\n"
     ]
    }
   ],
   "source": [
    "# #Se si vuole salvare il file con meno basi\n",
    "# dim=148\n",
    "# MM_RB = MM_RB[:dim, :dim]\n",
    "# FF_RB = FF_RB[:dim]\n",
    "# KK_RB = KK_RB[:, :dim, :dim]\n",
    "# AA_RB = AA_RB[:dim]\n",
    "# basis = basis [:, :dim]\n",
    "\n",
    "\n",
    "# print(MM_RB.shape)\n",
    "# print(FF_RB.shape)\n",
    "# print(KK_RB.shape)\n",
    "# print(AA_RB.shape)\n",
    "# print(basis.shape)\n",
    "\n",
    "# # with h5py.File('checkpoint/matrici_RB.h5', 'w') as hf:\n",
    "# #     hf.create_dataset('MM_RB', data=MM_RB)\n",
    "# #     hf.create_dataset('FF_RB', data=FF_RB)\n",
    "# #     hf.create_dataset('KK_RB', data=KK_RB)\n",
    "# #     hf.create_dataset('AA_RB', data=AA_RB)\n",
    "# #     hf.create_dataset('ZZ_CO', data=ZZ_CO)\n",
    "# #     hf.create_dataset('II_CO', data=II_CO)\n",
    "# #     hf.create_dataset('basis', data=basis)"
   ]
  },
  {
   "cell_type": "code",
   "execution_count": 5,
   "metadata": {},
   "outputs": [
    {
     "name": "stdout",
     "output_type": "stream",
     "text": [
      "[1.99245302e-05 8.54366476e-06 1.65153682e-05 ... 1.55354324e-05\n",
      " 1.56137481e-05 1.96780533e-05]\n"
     ]
    }
   ],
   "source": [
    "import numpy as np \n",
    "loaded_data = np.load('checkpoint/training_set.npz')\n",
    "LIST_FR = loaded_data['FR']\n",
    "LIST_BC = loaded_data['BC']\n",
    "LIST_LL = loaded_data['LL']\n",
    "LIST_RR = loaded_data['RR']\n",
    "LIST_FY = loaded_data['FY']\n",
    "LIST_K = loaded_data['K']\n",
    "\n",
    "print(LIST_RR)"
   ]
  },
  {
   "cell_type": "code",
   "execution_count": null,
   "metadata": {},
   "outputs": [],
   "source": []
  }
 ],
 "metadata": {
  "kernelspec": {
   "display_name": "Python 3 (ipykernel)",
   "language": "python",
   "name": "python3"
  },
  "language_info": {
   "codemirror_mode": {
    "name": "ipython",
    "version": 3
   },
   "file_extension": ".py",
   "mimetype": "text/x-python",
   "name": "python",
   "nbconvert_exporter": "python",
   "pygments_lexer": "ipython3",
   "version": "3.13.1"
  }
 },
 "nbformat": 4,
 "nbformat_minor": 4
}
