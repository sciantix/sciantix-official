{
 "cells": [
  {
   "cell_type": "code",
   "execution_count": 4,
   "metadata": {},
   "outputs": [
    {
     "name": "stdout",
     "output_type": "stream",
     "text": [
      "(9900, 173)\n"
     ]
    }
   ],
   "source": [
    "import h5py\n",
    "\n",
    "# Apri il file in modalità lettura\n",
    "with h5py.File('checkpoint/matrici_RB.h5', 'r') as hf:\n",
    "    # Accedi ai dataset e ricrea le matrici\n",
    "    MM_RB = hf['MM_RB'][:]   #N_epsilon x N_epsilon\n",
    "    FF_RB = hf['FF_RB'][:]   #N_epsilon x 1\n",
    "    KK_RB = hf['KK_RB'][:]   #N_D+N_D x N_epsilon x N_epsilon\n",
    "    AA_RB = hf['AA_RB'][:]   #N_epsilon\n",
    "    ZZ_CO = hf['ZZ_CO'][:]   #N_D\n",
    "    II_CO = hf['II_CO'][:]   #N_D x N_D\n",
    "    basis = hf['basis'][:]   #mask_in_C x N_epsilon\n",
    "\n",
    "print(basis.shape)"
   ]
  },
  {
   "cell_type": "code",
   "execution_count": null,
   "metadata": {},
   "outputs": [
    {
     "name": "stdout",
     "output_type": "stream",
     "text": [
      "(44, 44)\n",
      "(44, 1)\n",
      "(16, 44, 44)\n",
      "(44,)\n",
      "(9900, 44)\n"
     ]
    }
   ],
   "source": [
    "# #Se si vuole salvare il file con meno basi\n",
    "# MM_RB = MM_RB[:116, :116]\n",
    "# FF_RB = FF_RB[:116]\n",
    "# KK_RB = KK_RB[:, :116, :116]\n",
    "# AA_RB = AA_RB[:116]\n",
    "# basis = basis [:, :116]\n",
    "\n",
    "\n",
    "# print(MM_RB.shape)\n",
    "# print(FF_RB.shape)\n",
    "# print(KK_RB.shape)\n",
    "# print(AA_RB.shape)\n",
    "# print(basis.shape)"
   ]
  },
  {
   "cell_type": "code",
   "execution_count": 2,
   "metadata": {},
   "outputs": [
    {
     "ename": "FileNotFoundError",
     "evalue": "[Errno 2] No such file or directory: 'checkpoint/training_set.npz'",
     "output_type": "error",
     "traceback": [
      "\u001b[0;31m---------------------------------------------------------------------------\u001b[0m",
      "\u001b[0;31mFileNotFoundError\u001b[0m                         Traceback (most recent call last)",
      "Cell \u001b[0;32mIn[2], line 2\u001b[0m\n\u001b[1;32m      1\u001b[0m \u001b[38;5;28;01mimport\u001b[39;00m \u001b[38;5;21;01mnumpy\u001b[39;00m \u001b[38;5;28;01mas\u001b[39;00m \u001b[38;5;21;01mnp\u001b[39;00m \n\u001b[0;32m----> 2\u001b[0m loaded_data \u001b[38;5;241m=\u001b[39m \u001b[43mnp\u001b[49m\u001b[38;5;241;43m.\u001b[39;49m\u001b[43mload\u001b[49m\u001b[43m(\u001b[49m\u001b[38;5;124;43m'\u001b[39;49m\u001b[38;5;124;43mcheckpoint/training_set.npz\u001b[39;49m\u001b[38;5;124;43m'\u001b[39;49m\u001b[43m)\u001b[49m\n\u001b[1;32m      3\u001b[0m LIST_FR \u001b[38;5;241m=\u001b[39m loaded_data[\u001b[38;5;124m'\u001b[39m\u001b[38;5;124mFR\u001b[39m\u001b[38;5;124m'\u001b[39m]\n\u001b[1;32m      4\u001b[0m LIST_BC \u001b[38;5;241m=\u001b[39m loaded_data[\u001b[38;5;124m'\u001b[39m\u001b[38;5;124mBC\u001b[39m\u001b[38;5;124m'\u001b[39m]\n",
      "File \u001b[0;32m~/Library/Python/3.9/lib/python/site-packages/numpy/lib/npyio.py:427\u001b[0m, in \u001b[0;36mload\u001b[0;34m(file, mmap_mode, allow_pickle, fix_imports, encoding, max_header_size)\u001b[0m\n\u001b[1;32m    425\u001b[0m     own_fid \u001b[38;5;241m=\u001b[39m \u001b[38;5;28;01mFalse\u001b[39;00m\n\u001b[1;32m    426\u001b[0m \u001b[38;5;28;01melse\u001b[39;00m:\n\u001b[0;32m--> 427\u001b[0m     fid \u001b[38;5;241m=\u001b[39m stack\u001b[38;5;241m.\u001b[39menter_context(\u001b[38;5;28;43mopen\u001b[39;49m\u001b[43m(\u001b[49m\u001b[43mos_fspath\u001b[49m\u001b[43m(\u001b[49m\u001b[43mfile\u001b[49m\u001b[43m)\u001b[49m\u001b[43m,\u001b[49m\u001b[43m \u001b[49m\u001b[38;5;124;43m\"\u001b[39;49m\u001b[38;5;124;43mrb\u001b[39;49m\u001b[38;5;124;43m\"\u001b[39;49m\u001b[43m)\u001b[49m)\n\u001b[1;32m    428\u001b[0m     own_fid \u001b[38;5;241m=\u001b[39m \u001b[38;5;28;01mTrue\u001b[39;00m\n\u001b[1;32m    430\u001b[0m \u001b[38;5;66;03m# Code to distinguish from NumPy binary files and pickles.\u001b[39;00m\n",
      "\u001b[0;31mFileNotFoundError\u001b[0m: [Errno 2] No such file or directory: 'checkpoint/training_set.npz'"
     ]
    }
   ],
   "source": [
    "import numpy as np \n",
    "loaded_data = np.load('checkpoint/training_set.npz')\n",
    "LIST_FR = loaded_data['FR']\n",
    "LIST_BC = loaded_data['BC']\n",
    "LIST_LL = loaded_data['LL']\n",
    "LIST_RR = loaded_data['RR']\n",
    "LIST_FY = loaded_data['FY']\n",
    "LIST_K = loaded_data['K']\n",
    "LIST_GG = loaded_data['GG']\n"
   ]
  },
  {
   "cell_type": "code",
   "execution_count": null,
   "metadata": {},
   "outputs": [],
   "source": []
  }
 ],
 "metadata": {
  "kernelspec": {
   "display_name": "Python 3",
   "language": "python",
   "name": "python3"
  },
  "language_info": {
   "codemirror_mode": {
    "name": "ipython",
    "version": 3
   },
   "file_extension": ".py",
   "mimetype": "text/x-python",
   "name": "python",
   "nbconvert_exporter": "python",
   "pygments_lexer": "ipython3",
   "version": "3.9.6"
  }
 },
 "nbformat": 4,
 "nbformat_minor": 2
}
