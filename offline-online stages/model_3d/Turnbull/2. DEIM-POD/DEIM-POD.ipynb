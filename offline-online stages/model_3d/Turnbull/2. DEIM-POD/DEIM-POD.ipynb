{
 "cells": [
  {
   "cell_type": "markdown",
   "metadata": {},
   "source": [
    "## **REDUCED BASIS SPACE**"
   ]
  },
  {
   "cell_type": "markdown",
   "metadata": {},
   "source": [
    "#### LOAD LIBRARIES"
   ]
  },
  {
   "cell_type": "code",
   "execution_count": 1,
   "metadata": {},
   "outputs": [
    {
     "name": "stdout",
     "output_type": "stream",
     "text": [
      "\u001b[H\u001b[2J"
     ]
    },
    {
     "name": "stderr",
     "output_type": "stream",
     "text": [
      "/var/folders/gs/p2p59ns16hlgpqv_027665gm0000gn/T/ipykernel_2474/4249413580.py:3: DeprecationWarning: `magic(...)` is deprecated since IPython 0.13 (warning added in 8.1), use run_line_magic(magic_name, parameter_s).\n",
      "  get_ipython().magic('clear')\n",
      "/var/folders/gs/p2p59ns16hlgpqv_027665gm0000gn/T/ipykernel_2474/4249413580.py:4: DeprecationWarning: `magic(...)` is deprecated since IPython 0.13 (warning added in 8.1), use run_line_magic(magic_name, parameter_s).\n",
      "  get_ipython().magic('reset -f')\n"
     ]
    }
   ],
   "source": [
    "# Pulizia\n",
    "from IPython import get_ipython\n",
    "get_ipython().magic('clear')\n",
    "get_ipython().magic('reset -f')\n",
    "\n",
    "\n",
    "# Import libraries:\n",
    "import numpy as np\n",
    "import matplotlib.pyplot as plt\n",
    "import pandas as pd\n",
    "import scipy as sp\n",
    "import scipy.sparse as sparse\n",
    "import scipy.sparse.linalg as linalg\n",
    "import itertools\n",
    "import time\n",
    "import sys\n",
    "import h5py\n",
    "import os\n",
    "import shutil\n",
    "\n",
    "# Import user defined libraries:\n",
    "from FreeFEM import FFmatrix_fread, FFvector_fread\n",
    "\n",
    "#model_files folder is created\n",
    "folder_name = 'model_files'\n",
    "if os.path.exists(folder_name):\n",
    "    shutil.rmtree(folder_name)      #delete the folder if exist\n",
    "os.makedirs(folder_name)            #create a new folder\n"
   ]
  },
  {
   "cell_type": "markdown",
   "metadata": {},
   "source": [
    "#### DEFINE REFERENCE PROBLEM PARAMETERS"
   ]
  },
  {
   "cell_type": "code",
   "execution_count": 2,
   "metadata": {},
   "outputs": [],
   "source": [
    "## Define universal constants:\n",
    "N_AVOG = 6.022141E+23  # [-]\n",
    "N_BOLT = 1.380649E-23  # [-]\n",
    "\n",
    "# Define geometrical parameters:\n",
    "RADIUS = 1.00E-05  # [m]\n",
    "LENGTH = 1.00E-03  # [m]\n",
    "\n",
    "# Define sources intensity:\n",
    "FISSION_RATE = 3.00E+19                 # Per T [fissions/s] per c [fissions/m^3 s]\n",
    "#q''' = 3.21e-11                       #[W/m^3]\n",
    "#rho = 11040                           #[Kg/m^3]\n",
    "#Cp = 400                              #[J/(Kg K)]\n",
    "FISSION_HEAT = 7.27E-18                 #[K/fissions]    = q'''/(rho Cp)\n",
    "FISSION_YIELD = 0.24E+00                #Xenon [at/fissions]  \n",
    "SOURCE_T = FISSION_RATE * FISSION_HEAT   #[K/s]\n",
    "SOURCE_C = FISSION_RATE * FISSION_YIELD  #[atm / (m^3 s)]\n",
    "\n",
    "# Define temperatur diffusion coefficient and forcing dimensionless group:\n",
    "#k = 2.5 E-05                          #[W/(m K)]\n",
    "ALPHA_T = 5.00E-07                     # [m^2 / s]   # = k/(rho Cp)\n",
    "GAMMA_T = SOURCE_T * LENGTH**2 / ALPHA_T  # [ - ]\n",
    "                       \n",
    "# Define reference temperature, concentration and linear diffusion parameters:\n",
    "T_BC, T_IC = 2.00E+03, 2.00E+03  # [K]\n",
    "C_BC, C_IC = 0.00E+00, 0.00E+00  # [atm / m^3]\n",
    "\n",
    "# Define forcing dimensionless group:\n",
    "GAMMA_T = SOURCE_T * LENGTH**2 / ALPHA_T\n",
    "\n",
    "# Define final time, time increment:\n",
    "TIME_FINAL = 1.00E+07  # [s]\n",
    "TIME_DELTA = 1.00E+04  # [s]\n",
    "\n",
    "# Compute number of iterations:\n",
    "N_ITER = int(TIME_FINAL / TIME_DELTA)  # [-]\n",
    "\n",
    "# Define function evaluating the concentration diffusion coefficient at given z coordinated provided the problem parameters:\n",
    "def ALPHA_C(ZZ, T_BC=T_BC, GAMMA_T=GAMMA_T, FISSION_RATE=FISSION_RATE):\n",
    "    return 7.60E-10 * np.exp(- 4.86E-19 / (T_BC + GAMMA_T * (1 - ZZ**2) / 2) / N_BOLT) + \\\n",
    "           5.64E-25 * np.exp(- 1.91E-19 / (T_BC + GAMMA_T * (1 - ZZ**2) / 2) / N_BOLT) * np.sqrt(FISSION_RATE) + \\\n",
    "           8.00E-40 * FISSION_RATE"
   ]
  },
  {
   "cell_type": "markdown",
   "metadata": {},
   "source": [
    "#### IDENTIFY DIRICHLET DOFS AND INTERNAL DOFS"
   ]
  },
  {
   "cell_type": "code",
   "execution_count": 3,
   "metadata": {},
   "outputs": [],
   "source": [
    "# Load coordinates:\n",
    "coordinates_Px = FFvector_fread('vv_cc_Px.btxt')\n",
    "coordinates_Pq = FFvector_fread('vv_cc_Pq.btxt')\n",
    "\n",
    "# Identify degrees of freedom of the Px and Pq spaces:\n",
    "sFO_Px = coordinates_Px.shape[0]\n",
    "sFO_Pq = coordinates_Pq.shape[0]\n",
    "\n",
    "# Define vector of all Px indeces:\n",
    "mask_all = np.arange(sFO_Px, dtype=int)\n",
    "\n",
    "# Identify indeces of the top, bottom and middle boundaries in Px:\n",
    "mask_inf_bc = mask_all[np.isclose([coordinates_Px[ii, 2] for ii in range(sFO_Px)], np.zeros((sFO_Px)))]\n",
    "mask_sup_bc = mask_all[np.isclose([coordinates_Px[ii, 2] for ii in range(sFO_Px)], np.ones((sFO_Px)))]\n",
    "mask_mid_bc = mask_all[np.isclose([np.linalg.norm(coordinates_Px[ii, :2]) for ii in range(sFO_Px)], np.ones((sFO_Px)))]\n",
    "\n",
    "# Identify indeces of the Dirichlet b.c. for the temperature and concentration field:\n",
    "mask_bc_T = np.fromiter(set(mask_sup_bc), int)\n",
    "mask_bc_C = np.fromiter(set(mask_sup_bc) | set(mask_mid_bc) | set(mask_inf_bc), int)\n",
    "\n",
    "# Identify indeces of the interior for the temperature and concentration field:\n",
    "mask_in_T = [ii for ii in mask_all if ii not in mask_bc_T]\n",
    "mask_in_C = [ii for ii in mask_all if ii not in mask_bc_C]"
   ]
  },
  {
   "cell_type": "markdown",
   "metadata": {},
   "source": [
    "#### DEFINE FINITE ELEMENT ESSENTIALS"
   ]
  },
  {
   "cell_type": "code",
   "execution_count": 4,
   "metadata": {},
   "outputs": [],
   "source": [
    "# Import mass matrices on the Px and on the Pq space:\n",
    "mass_Px = FFmatrix_fread('ww_mm_Px.btxt')\n",
    "mass_Pq = FFmatrix_fread('ww_mm_Pq.btxt')\n",
    "\n",
    "# Compute volume of the domain:\n",
    "volume = mass_Px.dot(np.ones(sFO_Px)).dot(np.ones(sFO_Px))\n",
    "\n",
    "# Extract integration weights and diagonal matrix with their inverse:\n",
    "weights_Pq = mass_Pq.diagonal()\n",
    "project_Pq = sparse.diags(np.reciprocal(weights_Pq))\n",
    "\n",
    "# Import map from Px to Pq and to the dx, dy, dz derivative evaluated in Pq:\n",
    "PxtoPquu_C = project_Pq.dot(FFmatrix_fread('ww_uu_Px_Pq.btxt')[:, mask_in_C])\n",
    "PxtoPqdx_C = project_Pq.dot(FFmatrix_fread('ww_dx_Px_Pq.btxt')[:, mask_in_C])\n",
    "PxtoPqdy_C = project_Pq.dot(FFmatrix_fread('ww_dy_Px_Pq.btxt')[:, mask_in_C])\n",
    "PxtoPqdz_C = project_Pq.dot(FFmatrix_fread('ww_dz_Px_Pq.btxt')[:, mask_in_C])\n",
    "\n",
    "# Assemble mass matrix and projected forcing term:\n",
    "forc_C = PxtoPquu_C.T.dot(weights_Pq[:, None])\n",
    "mass_C = PxtoPquu_C.T.dot(PxtoPquu_C.multiply(weights_Pq[:, None]))\n",
    "inte_C = mass_Px.dot(np.ones((sFO_Px)))[mask_in_C] / volume\n",
    "\n",
    "# Assemble a function assembling the stiffness matrix at a given time:\n",
    "stiff_C = PxtoPqdx_C.T.dot(PxtoPqdx_C.multiply(ALPHA_C(coordinates_Pq[:, 2:3]) / RADIUS**2 * weights_Pq[:, None])) + \\\n",
    "          PxtoPqdy_C.T.dot(PxtoPqdy_C.multiply(ALPHA_C(coordinates_Pq[:, 2:3]) / RADIUS**2 * weights_Pq[:, None])) + \\\n",
    "          PxtoPqdz_C.T.dot(PxtoPqdz_C.multiply(ALPHA_C(coordinates_Pq[:, 2:3]) / LENGTH**2 * weights_Pq[:, None]))"
   ]
  },
  {
   "cell_type": "markdown",
   "metadata": {},
   "source": [
    "#### DEFINE PARAMETERS TRAINING SET\n",
    "$\\Xi_{train}$"
   ]
  },
  {
   "cell_type": "code",
   "execution_count": 5,
   "metadata": {},
   "outputs": [],
   "source": [
    "# Define size of the training parameter set:\n",
    "sTR = 10000\n",
    "\n",
    "# Define parameters ranges:\n",
    "MIN_FR, MAX_FR = 2.00E+19, 3.00E+19 \n",
    "MIN_BC, MAX_BC = 1.75E+03, 2.5E+03\n",
    "MIN_LL, MAX_LL = 0.75E-3, 1.25E-3\n",
    "MIN_RR, MAX_RR = 0.75E-5, 1.25E-5\n",
    "#MIN_FY, MAX_FY = 0.00, 0.3 \n",
    "#MIN_Q, MAX_Q =                                                             #q''' [W/m^3]\n",
    "#MIN_RHO, MAX_RHO =                                                         #rho[Kg/m^3]\n",
    "#MIN_CP, MAX_CP =                                                           #Cp[J/(Kg K)]\n",
    "#MIN_FH , MAX_FH = MIN_Q/(MIN_RHO*MIN_CP), MAX_Q/(MAX_RHO*MAX_CP)           #fission heat\n",
    "#MIN_K, MAX_K =                                                             #[W/(m K)]\n",
    "#MIN_ALPHA, MAX_ALPHA = MIN_K/(MIN_RHO*MIN_CP), MAX_K/(MAX_RHO*MAX_CP)      #k/(rho Cp)\n",
    "MIN_GG, MAX_GG = (7.27E-18 / 5.00E-07) * MIN_FR * MIN_LL**2, (7.27E-18 / 5.00E-07) * MAX_FR * MAX_LL**2\n",
    "#MIN_GG, MAX_GG = (MIN_FH / MIN_ALPHA) * MIN_FR* MIN_LL**2,   (MAX_FH / MAX_ALPHA) * MAX_FR* MAX_LL**2\n",
    "\n",
    "# Compute a list of random parameters within the range:\n",
    "LIST_FR = np.random.uniform(low=MIN_FR, high=MAX_FR, size=(sTR))\n",
    "LIST_BC = np.random.uniform(low=MIN_BC, high=MAX_BC, size=(sTR))\n",
    "LIST_LL = np.random.uniform(low=MIN_LL, high=MAX_LL, size=(sTR))\n",
    "LIST_RR = np.random.uniform(low=MIN_RR, high=MAX_RR, size=(sTR))\n",
    "LIST_GG = (7.27E-18 / 5.00E-07) * LIST_FR * LIST_LL**2\n",
    "\n",
    "# Extract z coordinates from the list of all Pq points coordinates and map those coordinates to the Pq points:\n",
    "ZZ = np.sort(list(set(coordinates_Pq[:, 2])))\n",
    "ZZ_1Dto3D = sparse.csr_matrix(np.array([coordinates_Pq[:, 2] == ZZ[kk] for kk in range(len(ZZ))]).T) * 1\n",
    "\n",
    "# Compute a training set of concentration diffusion coefficients evaluated at the z coordinates: \n",
    "TRAINING = np.empty((len(ZZ), sTR))\n",
    "for ii in range(sTR):\n",
    "    TRAINING[:, ii] = ALPHA_C(ZZ, T_BC=LIST_BC[ii], GAMMA_T=LIST_GG[ii], FISSION_RATE=LIST_FR[ii])"
   ]
  },
  {
   "cell_type": "markdown",
   "metadata": {},
   "source": [
    "#### CONSTRUCT AN AFFINE DECOMPOSITION FOR THE CONCENTRATION DIFFUSION COEFFICIENTS\n",
    "\n",
    "Ora costruiamo le basi $\\zeta_i(\\mathbf{x})$"
   ]
  },
  {
   "cell_type": "code",
   "execution_count": 8,
   "metadata": {},
   "outputs": [
    {
     "name": "stdout",
     "output_type": "stream",
     "text": [
      "4.071682844878886e-07\n",
      "(190, 190)\n"
     ]
    }
   ],
   "source": [
    "# Compress the training set using singular value decomposition:\n",
    "UU, SS, VV = np.linalg.svd(TRAINING @ TRAINING.T, full_matrices=False)\n",
    "NN = np.sum(np.sqrt([np.sum(SS[ii:]) / np.sum(SS) for ii in range(len(SS))]) > 1e-6) + 1 \n",
    "\n",
    "# Construct 1D and 3D basis for the concentration diffusion coefficient:\n",
    "BASIS_D_1D = UU[:, :NN]\n",
    "BASIS_D_3D = ZZ_1Dto3D @ BASIS_D_1D\n",
    "\n",
    "# Use a greedy algorithm to identify the points (indeces) to interpolate the exact concentration coefficients:\n",
    "INT_COO = [np.argmax(np.abs(BASIS_D_1D[:, 0]))]\n",
    "for ii in range(1, NN):\n",
    "    INT_COO.append(np.argmax(np.abs(BASIS_D_1D[:, ii] - BASIS_D_1D[:, :ii] @ np.linalg.solve(BASIS_D_1D[INT_COO, :ii],  BASIS_D_1D[INT_COO, ii]))))\n",
    "\n",
    "# Extrat the z coordinates associated with the selected indeces: CO = indici sul vettore delle posizioni.   \n",
    "INT_COO = np.array(INT_COO)\n",
    "INT_CZZ = np.array([ZZ[INT_COO[ii]] for ii in range(NN)])\n",
    "\n",
    "# Define interpolation operator mapping from the diffusion coefficient evaluated in the interpolation points to the linear combination coefficients:\n",
    "mapDAtoCO = np.linalg.solve(BASIS_D_1D[INT_COO, :], np.eye(NN))\n",
    "\n",
    "# Estimate the absolute and relative errors committed with this interpolation approach:\n",
    "ABS_ERR = np.linalg.norm(TRAINING - BASIS_D_1D @ mapDAtoCO @ TRAINING[INT_COO, :], axis=0) \n",
    "REL_ERR = ABS_ERR / np.linalg.norm(TRAINING, axis=0)\n",
    "\n",
    "# Print maximum error:\n",
    "print(np.max(REL_ERR))\n",
    "print(VV.shape)"
   ]
  },
  {
   "cell_type": "code",
   "execution_count": 9,
   "metadata": {},
   "outputs": [
    {
     "data": {
      "text/plain": [
       "<matplotlib.patches.Rectangle at 0x176c8d6d0>"
      ]
     },
     "execution_count": 9,
     "metadata": {},
     "output_type": "execute_result"
    },
    {
     "data": {
      "image/png": "[encoded data removed]",
      "text/plain": [
       "<Figure size 600x500 with 1 Axes>"
      ]
     },
     "metadata": {},
     "output_type": "display_data"
    }
   ],
   "source": [
    "#guardiamo la missing energy del termine non-affine -> queste basi ridotte dopo le usiamo per davvero\n",
    "missing = np.sqrt([np.sum(SS[ii:]) / np.sum(SS) for ii in range(len(SS))])\n",
    "fig, (ax1) = plt.subplots(1, figsize=(6,5))\n",
    "ax1.set_yscale('log')\n",
    "ax1.plot(range(1,26), missing[:25], '-o')\n",
    "ax1.tick_params(axis=\"y\", labelsize=13)\n",
    "ax1.tick_params(axis='x', labelsize=13)\n",
    "ax1.set_xlabel('Number of modes',fontsize=14)\n",
    "ax1.set_ylabel('Missing energy',fontsize=14)\n",
    "ax1.axvspan(1, NN, color='gray', alpha=0.2)"
   ]
  },
  {
   "cell_type": "markdown",
   "metadata": {},
   "source": [
    "#### ASSEMBLE AFFINELY DECOMPOSED STIFFNESS MATRICES AND COMPUTE THEIR COERCIVITY CONSTANTS"
   ]
  },
  {
   "cell_type": "code",
   "execution_count": 10,
   "metadata": {},
   "outputs": [],
   "source": [
    "# Define two mass matrices respectively linked to the regularity of the solution and of its time derivative:\n",
    "Y_mass = stiff_C\n",
    "X_mass = mass_C\n",
    "\n",
    "# Initialise array for the partial stiffness matrices and for their coercivity constants:\n",
    "list_basis_stiff_C = np.array([sparse.csr_matrix((mass_C.shape)) for ii in range(2*NN)])\n",
    "list_coerc_stiff_C = np.zeros((2*NN))\n",
    "\n",
    "# Iterate over the selected basis for the diffusion coefficient field\n",
    "for ii in range(NN):\n",
    "\n",
    "    # Assemble the axial and radial partial stiffness matrices associated with the basis of the diffusivity:\n",
    "    list_basis_stiff_C[NN+ii] = PxtoPqdz_C.T.dot(PxtoPqdz_C.multiply(BASIS_D_3D[:, ii:ii+1] * weights_Pq[:, None]))\n",
    "    list_basis_stiff_C[00+ii] = PxtoPqdx_C.T.dot(PxtoPqdx_C.multiply(BASIS_D_3D[:, ii:ii+1] * weights_Pq[:, None])) + \\\n",
    "                                PxtoPqdy_C.T.dot(PxtoPqdy_C.multiply(BASIS_D_3D[:, ii:ii+1] * weights_Pq[:, None]))\n",
    "\n",
    "    # Compute the sign of the axial and radial partial stiffness matrices:\n",
    "    tsign_dz_C = np.sign(list_basis_stiff_C[NN + ii].trace())\n",
    "    tsign_dr_C = np.sign(list_basis_stiff_C[00 + ii].trace())\n",
    "\n",
    "    # Compute the coercivity constant of the axial and radial partial stiffness matrices:\n",
    "    list_coerc_stiff_C[NN+ii] = tsign_dz_C / linalg.eigsh(Y_mass, k=1, M=tsign_dz_C * list_basis_stiff_C[NN+ii], which='LM', return_eigenvectors=False)[0]\n",
    "    list_coerc_stiff_C[00+ii] = tsign_dr_C / linalg.eigsh(Y_mass, k=1, M=tsign_dr_C * list_basis_stiff_C[00+ii], which='LM', return_eigenvectors=False)[0]"
   ]
  },
  {
   "cell_type": "markdown",
   "metadata": {},
   "source": [
    "#### SAVE ESSENTIAL FILES"
   ]
  },
  {
   "cell_type": "code",
   "execution_count": 11,
   "metadata": {},
   "outputs": [],
   "source": [
    "# Save essentail files:\n",
    "np.save('model_files/FF_FO.npy', forc_C)\n",
    "np.save('model_files/XX_FO.npy', np.array([mass_C]))\n",
    "np.save('model_files/YY_FO.npy', np.array([stiff_C]))\n",
    "np.save('model_files/KK_FO.npy', list_basis_stiff_C)\n",
    "np.save('model_files/CC_FO.npy', list_coerc_stiff_C)\n",
    "np.save('model_files/ZZ_FO.npy', INT_CZZ)\n",
    "np.save('model_files/II_FO.npy', mapDAtoCO)          \n",
    "np.save('model_files/AA_FO.npy', inte_C)"
   ]
  },
  {
   "cell_type": "code",
   "execution_count": 12,
   "metadata": {},
   "outputs": [],
   "source": [
    "# Import user defined libraries:\n",
    "from solver_class import FiniteElementCylinderSolver, ReducedBasisCylinderSolver"
   ]
  },
  {
   "cell_type": "markdown",
   "metadata": {},
   "source": [
    "### DEFINE PARAMETERS TRAINING SET"
   ]
  },
  {
   "cell_type": "code",
   "execution_count": 13,
   "metadata": {},
   "outputs": [],
   "source": [
    "# Define size of the training parameter set:\n",
    "sTR = 10000\n",
    "\n",
    "# Define parameters ranges:\n",
    "MIN_FR, MAX_FR = 2.00E+19, 3.00E+19 \n",
    "MIN_BC, MAX_BC = 1.75E+03, 2.25E+03\n",
    "MIN_LL, MAX_LL = 0.75E-3, 1.25E-3\n",
    "MIN_RR, MAX_RR = 0.75E-5, 1.25E-5\n",
    "\n",
    "# Compute a list of random parameters within the range:\n",
    "LIST_FR = np.random.uniform(low=MIN_FR, high=MAX_FR, size=(sTR))\n",
    "LIST_BC = np.random.uniform(low=MIN_BC, high=MAX_BC, size=(sTR))\n",
    "LIST_LL = np.random.uniform(low=MIN_LL, high=MAX_LL, size=(sTR))\n",
    "LIST_RR = np.random.uniform(low=MIN_RR, high=MAX_RR, size=(sTR))"
   ]
  },
  {
   "cell_type": "markdown",
   "metadata": {},
   "source": [
    "### POD-GREEDY"
   ]
  },
  {
   "cell_type": "code",
   "execution_count": 14,
   "metadata": {
    "scrolled": true
   },
   "outputs": [
    {
     "name": "stdout",
     "output_type": "stream",
     "text": [
      "The current reduced basis size is 12\n",
      "The selected Boundary Temperature is 2216.232540306686 K\n",
      "The selected Fission Rate is 2.0323267774374593e+19 f/s\n",
      "The selected Grain Length is 0.0007581119756313081 m\n",
      "The selected Grain Radius is 1.2287694230623566e-05 m\n",
      "\n",
      "The current reduced basis size is 19\n",
      "The selected Boundary Temperature is 1762.2664107255605 K\n",
      "The selected Fission Rate is 2.999230439497248e+19 f/s\n",
      "The selected Grain Length is 0.0012462617037735844 m\n",
      "The selected Grain Radius is 7.927674557999475e-06 m\n",
      "\n",
      "The current reduced basis size is 29\n",
      "The selected Boundary Temperature is 2242.8989313166962 K\n",
      "The selected Fission Rate is 2.016734320166988e+19 f/s\n",
      "The selected Grain Length is 0.000777199766602187 m\n",
      "The selected Grain Radius is 7.709889273048508e-06 m\n",
      "\n"
     ]
    },
    {
     "ename": "KeyboardInterrupt",
     "evalue": "",
     "output_type": "error",
     "traceback": [
      "\u001b[0;31m---------------------------------------------------------------------------\u001b[0m",
      "\u001b[0;31mKeyboardInterrupt\u001b[0m                         Traceback (most recent call last)",
      "Cell \u001b[0;32mIn[14], line 32\u001b[0m\n\u001b[1;32m     29\u001b[0m cur_basis \u001b[38;5;241m=\u001b[39m np\u001b[38;5;241m.\u001b[39mhstack((cur_basis, orthogonal_FO \u001b[38;5;241m@\u001b[39m AA[:, :new_sRB] \u001b[38;5;241m@\u001b[39m np\u001b[38;5;241m.\u001b[39mdiag(np\u001b[38;5;241m.\u001b[39mreciprocal(np\u001b[38;5;241m.\u001b[39msqrt(GG[:new_sRB])))))                                \u001b[38;5;66;03m#POD del complemento ortogonale.\u001b[39;00m\n\u001b[1;32m     31\u001b[0m \u001b[38;5;66;03m# Assemble reduced basis model:\u001b[39;00m\n\u001b[0;32m---> 32\u001b[0m solver_RB \u001b[38;5;241m=\u001b[39m \u001b[43mReducedBasisCylinderSolver\u001b[49m\u001b[43m(\u001b[49m\u001b[43mcur_basis\u001b[49m\u001b[43m)\u001b[49m                                                                                                  \u001b[38;5;66;03m#quando passo le nuove basi ri-assembla il modello ridotto, converrebbe fare l'orlata aggiungendo il pezzo. \u001b[39;00m\n\u001b[1;32m     33\u001b[0m \u001b[38;5;28;01mfor\u001b[39;00m kk \u001b[38;5;129;01min\u001b[39;00m \u001b[38;5;28mrange\u001b[39m(sTR):\n\u001b[1;32m     34\u001b[0m     solver_RB\u001b[38;5;241m.\u001b[39massemble(F_YIELD\u001b[38;5;241m=\u001b[39mcur_FY, F_RATE\u001b[38;5;241m=\u001b[39mLIST_FR[kk], T_BC\u001b[38;5;241m=\u001b[39mLIST_BC[kk], LENGTH\u001b[38;5;241m=\u001b[39mLIST_LL[kk], RADIUS\u001b[38;5;241m=\u001b[39mLIST_RR[kk], dt\u001b[38;5;241m=\u001b[39mcur_dt)\n",
      "File \u001b[0;32m~/Library/CloudStorage/OneDrive-PolitecnicodiMilano/PhD/Git/rom-cylinder_DEIM-POD/offline-online stages/Turnbull/2. DEIM-POD/solver_class.py:141\u001b[0m, in \u001b[0;36mReducedBasisCylinderSolver.__init__\u001b[0;34m(self, basis)\u001b[0m\n\u001b[1;32m    139\u001b[0m \u001b[38;5;66;03m# Assemble Rietz representer and reduced basis projection of the partial stiffness matrix:\u001b[39;00m\n\u001b[1;32m    140\u001b[0m \u001b[38;5;28mself\u001b[39m\u001b[38;5;241m.\u001b[39mKK_right \u001b[38;5;241m=\u001b[39m np\u001b[38;5;241m.\u001b[39marray([\u001b[38;5;28mself\u001b[39m\u001b[38;5;241m.\u001b[39mKK_FO[ii] \u001b[38;5;241m@\u001b[39m basis \u001b[38;5;28;01mfor\u001b[39;00m ii \u001b[38;5;129;01min\u001b[39;00m \u001b[38;5;28mrange\u001b[39m(\u001b[38;5;28mself\u001b[39m\u001b[38;5;241m.\u001b[39msHR)])\n\u001b[0;32m--> 141\u001b[0m \u001b[38;5;28mself\u001b[39m\u001b[38;5;241m.\u001b[39mKK_rietz \u001b[38;5;241m=\u001b[39m np\u001b[38;5;241m.\u001b[39marray([linalg\u001b[38;5;241m.\u001b[39mspsolve(\u001b[38;5;28mself\u001b[39m\u001b[38;5;241m.\u001b[39mYY_FO, \u001b[38;5;28mself\u001b[39m\u001b[38;5;241m.\u001b[39mKK_right[ii]) \u001b[38;5;28;01mfor\u001b[39;00m ii \u001b[38;5;129;01min\u001b[39;00m \u001b[38;5;28mrange\u001b[39m(\u001b[38;5;28mself\u001b[39m\u001b[38;5;241m.\u001b[39msHR)])\n\u001b[1;32m    142\u001b[0m \u001b[38;5;28mself\u001b[39m\u001b[38;5;241m.\u001b[39mKK_RB    \u001b[38;5;241m=\u001b[39m np\u001b[38;5;241m.\u001b[39marray([basis\u001b[38;5;241m.\u001b[39mT \u001b[38;5;241m@\u001b[39m \u001b[38;5;28mself\u001b[39m\u001b[38;5;241m.\u001b[39mKK_right[ii] \u001b[38;5;28;01mfor\u001b[39;00m ii \u001b[38;5;129;01min\u001b[39;00m \u001b[38;5;28mrange\u001b[39m(\u001b[38;5;28mself\u001b[39m\u001b[38;5;241m.\u001b[39msHR)])\n\u001b[1;32m    144\u001b[0m \u001b[38;5;66;03m# Pre-assemble the scalar and vector terms for the residual energy computation:\u001b[39;00m\n",
      "File \u001b[0;32m~/Library/CloudStorage/OneDrive-PolitecnicodiMilano/PhD/Git/rom-cylinder_DEIM-POD/offline-online stages/Turnbull/2. DEIM-POD/solver_class.py:141\u001b[0m, in \u001b[0;36m<listcomp>\u001b[0;34m(.0)\u001b[0m\n\u001b[1;32m    139\u001b[0m \u001b[38;5;66;03m# Assemble Rietz representer and reduced basis projection of the partial stiffness matrix:\u001b[39;00m\n\u001b[1;32m    140\u001b[0m \u001b[38;5;28mself\u001b[39m\u001b[38;5;241m.\u001b[39mKK_right \u001b[38;5;241m=\u001b[39m np\u001b[38;5;241m.\u001b[39marray([\u001b[38;5;28mself\u001b[39m\u001b[38;5;241m.\u001b[39mKK_FO[ii] \u001b[38;5;241m@\u001b[39m basis \u001b[38;5;28;01mfor\u001b[39;00m ii \u001b[38;5;129;01min\u001b[39;00m \u001b[38;5;28mrange\u001b[39m(\u001b[38;5;28mself\u001b[39m\u001b[38;5;241m.\u001b[39msHR)])\n\u001b[0;32m--> 141\u001b[0m \u001b[38;5;28mself\u001b[39m\u001b[38;5;241m.\u001b[39mKK_rietz \u001b[38;5;241m=\u001b[39m np\u001b[38;5;241m.\u001b[39marray([\u001b[43mlinalg\u001b[49m\u001b[38;5;241;43m.\u001b[39;49m\u001b[43mspsolve\u001b[49m\u001b[43m(\u001b[49m\u001b[38;5;28;43mself\u001b[39;49m\u001b[38;5;241;43m.\u001b[39;49m\u001b[43mYY_FO\u001b[49m\u001b[43m,\u001b[49m\u001b[43m \u001b[49m\u001b[38;5;28;43mself\u001b[39;49m\u001b[38;5;241;43m.\u001b[39;49m\u001b[43mKK_right\u001b[49m\u001b[43m[\u001b[49m\u001b[43mii\u001b[49m\u001b[43m]\u001b[49m\u001b[43m)\u001b[49m \u001b[38;5;28;01mfor\u001b[39;00m ii \u001b[38;5;129;01min\u001b[39;00m \u001b[38;5;28mrange\u001b[39m(\u001b[38;5;28mself\u001b[39m\u001b[38;5;241m.\u001b[39msHR)])\n\u001b[1;32m    142\u001b[0m \u001b[38;5;28mself\u001b[39m\u001b[38;5;241m.\u001b[39mKK_RB    \u001b[38;5;241m=\u001b[39m np\u001b[38;5;241m.\u001b[39marray([basis\u001b[38;5;241m.\u001b[39mT \u001b[38;5;241m@\u001b[39m \u001b[38;5;28mself\u001b[39m\u001b[38;5;241m.\u001b[39mKK_right[ii] \u001b[38;5;28;01mfor\u001b[39;00m ii \u001b[38;5;129;01min\u001b[39;00m \u001b[38;5;28mrange\u001b[39m(\u001b[38;5;28mself\u001b[39m\u001b[38;5;241m.\u001b[39msHR)])\n\u001b[1;32m    144\u001b[0m \u001b[38;5;66;03m# Pre-assemble the scalar and vector terms for the residual energy computation:\u001b[39;00m\n",
      "File \u001b[0;32m~/Library/Python/3.9/lib/python/site-packages/scipy/sparse/linalg/_dsolve/linsolve.py:293\u001b[0m, in \u001b[0;36mspsolve\u001b[0;34m(A, b, permc_spec, use_umfpack)\u001b[0m\n\u001b[1;32m    291\u001b[0m indptr \u001b[38;5;241m=\u001b[39m A\u001b[38;5;241m.\u001b[39mindptr\u001b[38;5;241m.\u001b[39mastype(np\u001b[38;5;241m.\u001b[39mintc, copy\u001b[38;5;241m=\u001b[39m\u001b[38;5;28;01mFalse\u001b[39;00m)\n\u001b[1;32m    292\u001b[0m options \u001b[38;5;241m=\u001b[39m \u001b[38;5;28mdict\u001b[39m(ColPerm\u001b[38;5;241m=\u001b[39mpermc_spec)\n\u001b[0;32m--> 293\u001b[0m x, info \u001b[38;5;241m=\u001b[39m \u001b[43m_superlu\u001b[49m\u001b[38;5;241;43m.\u001b[39;49m\u001b[43mgssv\u001b[49m\u001b[43m(\u001b[49m\u001b[43mN\u001b[49m\u001b[43m,\u001b[49m\u001b[43m \u001b[49m\u001b[43mA\u001b[49m\u001b[38;5;241;43m.\u001b[39;49m\u001b[43mnnz\u001b[49m\u001b[43m,\u001b[49m\u001b[43m \u001b[49m\u001b[43mA\u001b[49m\u001b[38;5;241;43m.\u001b[39;49m\u001b[43mdata\u001b[49m\u001b[43m,\u001b[49m\u001b[43m \u001b[49m\u001b[43mindices\u001b[49m\u001b[43m,\u001b[49m\u001b[43m \u001b[49m\u001b[43mindptr\u001b[49m\u001b[43m,\u001b[49m\n\u001b[1;32m    294\u001b[0m \u001b[43m                        \u001b[49m\u001b[43mb\u001b[49m\u001b[43m,\u001b[49m\u001b[43m \u001b[49m\u001b[43mflag\u001b[49m\u001b[43m,\u001b[49m\u001b[43m \u001b[49m\u001b[43moptions\u001b[49m\u001b[38;5;241;43m=\u001b[39;49m\u001b[43moptions\u001b[49m\u001b[43m)\u001b[49m\n\u001b[1;32m    295\u001b[0m \u001b[38;5;28;01mif\u001b[39;00m info \u001b[38;5;241m!=\u001b[39m \u001b[38;5;241m0\u001b[39m:\n\u001b[1;32m    296\u001b[0m     warn(\u001b[38;5;124m\"\u001b[39m\u001b[38;5;124mMatrix is exactly singular\u001b[39m\u001b[38;5;124m\"\u001b[39m, MatrixRankWarning, stacklevel\u001b[38;5;241m=\u001b[39m\u001b[38;5;241m2\u001b[39m)\n",
      "\u001b[0;31mKeyboardInterrupt\u001b[0m: "
     ]
    }
   ],
   "source": [
    "# Define reference parameters:\n",
    "cur_FY = 2.40E-01\n",
    "cur_FR = 3.00E+19 \n",
    "cur_BC = 2.00E+03\n",
    "cur_LL = 1.00E-03\n",
    "cur_RR = 1.00E-05\n",
    "cur_dt = 1.00E+04\n",
    "\n",
    "# Define empty basis functions matrix and empty list of error bounds:\n",
    "cur_basis = np.empty((FiniteElementCylinderSolver.sFO, 0))            #spazio ridotto, proiettare su questo produce zero. \n",
    "cur_err_bounds = np.ones((sTR))  \n",
    "\n",
    "# Enter reduced basis space loop:\n",
    "new_sRB = np.inf   \n",
    "while new_sRB > 0: #while np.max(cur_err_bounds) > 1e-02 \n",
    "\n",
    "    # Assemble full order model and compute full order solution associated with the current parameter selection:\n",
    "    solver_FO = FiniteElementCylinderSolver()\n",
    "    solver_FO.assemble(RADIUS=cur_RR, LENGTH=cur_LL, F_RATE=cur_FR, F_YIELD=cur_FY, T_BC=cur_BC, dt=cur_dt)\n",
    "    solution_FO = solver_FO.solve(n_steps=1000, verbose=False)\n",
    "\n",
    "    # Compute orthogonal complement to the basis function and solution energy:\n",
    "    orthogonal_FO = solution_FO - cur_basis @ np.linalg.solve(cur_basis.T @ solver_FO.XX_FO @ cur_basis, cur_basis.T @ solver_FO.XX_FO @ solution_FO)\n",
    "    solution_energy_FO = np.einsum('ik,ik', solver_FO.XX_FO @ solution_FO, solution_FO)                                                                 #equivalente traccia degli autovalori\n",
    "    \n",
    "    # Extract the POD basis from the full order solution:\n",
    "    AA, GG, BB = np.linalg.svd(orthogonal_FO.T @ solver_FO.XX_FO @ orthogonal_FO, full_matrices=False)\n",
    "    new_sRB = np.sum([np.sqrt(np.sum(GG[ii:]) / solution_energy_FO) > 1e-5 for ii in range(len(GG))])\n",
    "    cur_basis = np.hstack((cur_basis, orthogonal_FO @ AA[:, :new_sRB] @ np.diag(np.reciprocal(np.sqrt(GG[:new_sRB])))))                                #POD del complemento ortogonale.\n",
    "\n",
    "    # Assemble reduced basis model:\n",
    "    solver_RB = ReducedBasisCylinderSolver(cur_basis)                                                                                                  #quando passo le nuove basi ri-assembla il modello ridotto, converrebbe fare l'orlata aggiungendo il pezzo. \n",
    "    for kk in range(sTR):\n",
    "        solver_RB.assemble(F_YIELD=cur_FY, F_RATE=LIST_FR[kk], T_BC=LIST_BC[kk], LENGTH=LIST_LL[kk], RADIUS=LIST_RR[kk], dt=cur_dt)\n",
    "\n",
    "        # Compute current reduced basis solution and error bound:\n",
    "        solution_RB, cur_err_bounds[kk] = solver_RB.solve(n_steps=1000, error_bound=True)\n",
    "\n",
    "    # Identify new parameters where to evaluate the full order model:\n",
    "    cur_FY = cur_FY\n",
    "    cur_FR = LIST_FR[np.argmax(cur_err_bounds)]\n",
    "    cur_BC = LIST_BC[np.argmax(cur_err_bounds)]\n",
    "    cur_LL = LIST_LL[np.argmax(cur_err_bounds)]\n",
    "    cur_RR = LIST_RR[np.argmax(cur_err_bounds)]\n",
    "\n",
    "    print(\"The current reduced basis size is\", cur_basis.shape[1])\n",
    "    # Show worse reconstructed parameter configuration:\n",
    "    print(\"The selected Boundary Temperature is\", cur_BC, \"K\")\n",
    "    print(\"The selected Fission Rate is\", cur_FR, \"f/s\")\n",
    "    print(\"The selected Grain Length is\", cur_LL, \"m\")\n",
    "    print(\"The selected Grain Radius is\", cur_RR, \"m\\n\")"
   ]
  },
  {
   "cell_type": "code",
   "execution_count": 15,
   "metadata": {},
   "outputs": [
    {
     "data": {
      "text/plain": [
       "0.002300418499396012"
      ]
     },
     "execution_count": 15,
     "metadata": {},
     "output_type": "execute_result"
    }
   ],
   "source": [
    "cur_err_bounds[np.argmax(cur_err_bounds)]"
   ]
  },
  {
   "cell_type": "code",
   "execution_count": 14,
   "metadata": {},
   "outputs": [],
   "source": [
    "#Estraiamo le matrici dal solver\n",
    "MM_RB = solver_RB.XX_RB    #matrice di massa. 2D\n",
    "FF_RB = solver_RB.FF_RB    #funzionalità contro il vettore unitario. 1D\n",
    "KK_RB = solver_RB.KK_RB    #basi della decomposizione affine della stiffness. 3D\n",
    "AA_RB = solver_RB.AA_RB    #l'integratore per calcolare il valor medio sul volume data la soluzione ridotta, questo può essere sostituito dalla funzione che calcola il valor medio su diversi slice. 1D\n",
    "ZZ_CO = solver_RB.ZZ_FO    #coordinate a cui dobbiamo valutare la temperatura. 1D \n",
    "II_CO = solver_RB.II_FO    #coefficienti che mappano i valori del coefficiente di diffusione valutata sulle temperature nei coefficienti di combinazione lineare della decomposizione affine. 2D"
   ]
  },
  {
   "cell_type": "code",
   "execution_count": 16,
   "metadata": {},
   "outputs": [],
   "source": [
    "# Salviamo tutte le matrici in un unico file HDF5\n",
    "with h5py.File('matrici_RB.h5', 'w') as hf:\n",
    "    hf.create_dataset('MM_RB', data=MM_RB)\n",
    "    hf.create_dataset('FF_RB', data=FF_RB)\n",
    "    hf.create_dataset('KK_RB', data=KK_RB)\n",
    "    hf.create_dataset('AA_RB', data=AA_RB)\n",
    "    hf.create_dataset('ZZ_CO', data=ZZ_CO)\n",
    "    hf.create_dataset('II_CO', data=II_CO)"
   ]
  }
 ],
 "metadata": {
  "kernelspec": {
   "display_name": "Python 3",
   "language": "python",
   "name": "python3"
  },
  "language_info": {
   "codemirror_mode": {
    "name": "ipython",
    "version": 3
   },
   "file_extension": ".py",
   "mimetype": "text/x-python",
   "name": "python",
   "nbconvert_exporter": "python",
   "pygments_lexer": "ipython3",
   "version": "3.9.6"
  }
 },
 "nbformat": 4,
 "nbformat_minor": 4
}
