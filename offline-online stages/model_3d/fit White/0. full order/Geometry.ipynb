{
 "cells": [
  {
   "cell_type": "code",
   "execution_count": null,
   "metadata": {},
   "outputs": [],
   "source": [
    "import matplotlib.pyplot as plt\n",
    "from mpl_toolkits.mplot3d import Axes3D\n",
    "\n",
    "def data_for_cylinder_along_z(center_x, center_y, radius, height_z):\n",
    "    z = np.linspace(0, height_z, 50)\n",
    "    theta = np.linspace(0, 2 * np.pi, 50)\n",
    "    theta_grid, z_grid = np.meshgrid(theta, z)\n",
    "    x_grid = radius * np.cos(theta_grid) + center_x\n",
    "    y_grid = radius * np.sin(theta_grid) + center_y\n",
    "    return x_grid, y_grid, z_grid\n",
    "\n",
    "fig = plt.figure(figsize=(8,8))\n",
    "ax = fig.add_subplot(111, projection='3d')\n",
    "Xc, Yc, Zc = data_for_cylinder_along_z(0, 0, 1, 1)\n",
    "ax.plot_surface(Xc, Yc, Zc, color=\"gray\", alpha=0.5)\n",
    "\n",
    "# Aggiungi etichette per gli assi\n",
    "ax.set_xlabel('x', labelpad=2, fontsize=14)\n",
    "ax.set_ylabel('y', labelpad=2, fontsize=14)\n",
    "ax.set_zlabel('z', labelpad=-3, fontsize=14)\n",
    "\n",
    "ax.tick_params(axis='both', which='major', labelsize=10)\n",
    "# Avvicina i numeri al grafico\n",
    "ax.xaxis.set_tick_params(pad=-2)  # Riduci il padding per l'asse x\n",
    "ax.yaxis.set_tick_params(pad=-2)  # Riduci il padding per l'asse y\n",
    "ax.zaxis.set_tick_params(pad=-1)  # Riduci il padding per l'asse z\n",
    "\n",
    "\n",
    "ax.text(0, 0, 1.00, \"$\\Gamma_1$\", color='black', fontsize=16, ha='center')  # Etichetta per la parte superiore\n",
    "ax.text(0, 0, 0.5, \"$\\Gamma_2$\", color='black', fontsize=16, ha='center')  # Etichetta per la parte laterale\n",
    "ax.text(0, 0, 0, \"$\\Gamma_3$\", color='black', fontsize=16, ha='center')  # Etichetta per la parte inferiore\n",
    "\n",
    "# Set the view angle\n",
    "ax.view_init(elev=15, azim=30)  # Adjust these values for different angles\n",
    "plt.savefig('geometry.pdf', dpi=300, bbox_inches='tight') \n",
    "plt.show()"
   ]
  }
 ],
 "metadata": {
  "language_info": {
   "name": "python"
  }
 },
 "nbformat": 4,
 "nbformat_minor": 2
}
