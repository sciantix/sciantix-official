{
 "cells": [
  {
   "cell_type": "markdown",
   "metadata": {},
   "source": [
    "## **REDUCED BASIS SPACE**"
   ]
  },
  {
   "cell_type": "markdown",
   "metadata": {},
   "source": [
    "#### LOAD LIBRARIES"
   ]
  },
  {
   "cell_type": "code",
   "execution_count": 1,
   "metadata": {},
   "outputs": [
    {
     "name": "stdout",
     "output_type": "stream",
     "text": [
      "\u001b[H\u001b[2J"
     ]
    },
    {
     "name": "stderr",
     "output_type": "stream",
     "text": [
      "/var/folders/gs/p2p59ns16hlgpqv_027665gm0000gn/T/ipykernel_4614/2319778290.py:3: DeprecationWarning: `magic(...)` is deprecated since IPython 0.13 (warning added in 8.1), use run_line_magic(magic_name, parameter_s).\n",
      "  get_ipython().magic('clear')\n",
      "/var/folders/gs/p2p59ns16hlgpqv_027665gm0000gn/T/ipykernel_4614/2319778290.py:4: DeprecationWarning: `magic(...)` is deprecated since IPython 0.13 (warning added in 8.1), use run_line_magic(magic_name, parameter_s).\n",
      "  get_ipython().magic('reset -f')\n"
     ]
    }
   ],
   "source": [
    "# Pulizia\n",
    "from IPython import get_ipython\n",
    "get_ipython().magic('clear')\n",
    "get_ipython().magic('reset -f')\n",
    "\n",
    "# Import libraries:\n",
    "import numpy as np\n",
    "import matplotlib.pyplot as plt\n",
    "import pandas as pd\n",
    "import scipy as sp\n",
    "import scipy.sparse as sparse\n",
    "import scipy.sparse.linalg as linalg\n",
    "import itertools\n",
    "import time\n",
    "import sys\n",
    "import h5py\n",
    "import os\n",
    "import shutil\n",
    "import json\n",
    "\n",
    "# Import user-defined libraries:\n",
    "sys.path.append(os.path.abspath('/Users/martina/Library/CloudStorage/OneDrive-PolitecnicodiMilano/PhD/Git/rom-cylinder_DEIM-POD/offline-online stages/fit White/0. full order'))\n",
    "from FreeFEM import FFmatrix_fread, FFvector_fread\n",
    "\n",
    "#model_files folder is created\n",
    "folder_name = 'model_files'\n",
    "if os.path.exists(folder_name):\n",
    "    shutil.rmtree(folder_name)      #delete the folder if exist\n",
    "os.makedirs(folder_name)            #create a new folder\n"
   ]
  },
  {
   "cell_type": "markdown",
   "metadata": {},
   "source": [
    "#### DEFINE REFERENCE PROBLEM PARAMETERS"
   ]
  },
  {
   "cell_type": "code",
   "execution_count": 2,
   "metadata": {},
   "outputs": [],
   "source": [
    "## Define universal constants:\n",
    "N_AVOG = 6.022141E+23  # [-]\n",
    "N_BOLT = 1.380649E-23  # [-]\n",
    "\n",
    "# Define geometrical parameters:\n",
    "RADIUS = 1.00E-05  # [m]\n",
    "LENGTH = 1.00E-03  # [m]\n",
    "\n",
    "# Define sources intensity:\n",
    "FISSION_RATE = 3.00E+19                                             # [fissions/m^3 s]\n",
    "FISSION_ENERGY = 3.215e-11                                          #[J/fissions]\n",
    "FUEL_DENSITY = 11040                                                # rho [Kg/m^3]\n",
    "FUEL_SPECIFIC_HEAT = 400                                            #Cp [J/(Kg K)]\n",
    "POWER_DENSITY = FISSION_ENERGY * FISSION_RATE                       #q''' [W/m^3]\n",
    "FISSION_HEAT = FISSION_ENERGY/(FUEL_DENSITY*FUEL_SPECIFIC_HEAT)     #[K/fissions] = Energia di fissione/(rho Cp)\n",
    "FISSION_YIELD = 0.24E+00                                            #Xenon [at/fissions]  \n",
    "SOURCE_T = POWER_DENSITY/(FUEL_DENSITY*FUEL_SPECIFIC_HEAT)          #[K/s] = q'''/(rho Cp) \n",
    "SOURCE_C = FISSION_RATE * FISSION_YIELD                             #[atm / (m^3 s)]\n",
    "\n",
    "# Define temperatur diffusion coefficient and forcing dimensionless group:\n",
    "FUEL_THERMAL_CONDUCTIVITY = 2.208                                      #[W/(m K)]\n",
    "ALPHA_T = FUEL_THERMAL_CONDUCTIVITY/(FUEL_DENSITY*FUEL_SPECIFIC_HEAT)  # [m^2 / s]   k/(rho Cp)\n",
    "GAMMA_T = SOURCE_T * LENGTH**2 / ALPHA_T  # [ - ]\n",
    "\n",
    "# Define reference temperature, concentration and linear diffusion parameters:\n",
    "T_BC, T_IC = 2.00E+03, 2.00E+03  # [K]\n",
    "C_BC, C_IC = 0.00E+00, 0.00E+00  # [atm / m^3]\n",
    "\n",
    "# Define forcing dimensionless group:\n",
    "GAMMA_T = SOURCE_T * LENGTH**2 / ALPHA_T\n",
    "\n",
    "# Define final time, time increment:\n",
    "TIME_FINAL = 1.00E+07  # [s]\n",
    "TIME_DELTA = 1.00E+04  # [s]\n",
    "\n",
    "# Compute number of iterations:\n",
    "N_ITER = int(TIME_FINAL / TIME_DELTA)  # [-]\n",
    "\n",
    "# Define function evaluating the concentration diffusion coefficient at given z coordinated provided the problem parameters:\n",
    "def ALPHA_C(ZZ, T_BC=T_BC, GAMMA_T=GAMMA_T):\n",
    "    return 2.949513e-13 * np.exp(-20487.36244 / (T_BC + GAMMA_T * (1 - ZZ**2) / 2));"
   ]
  },
  {
   "cell_type": "markdown",
   "metadata": {},
   "source": [
    "#### IDENTIFY DIRICHLET DOFS AND INTERNAL DOFS"
   ]
  },
  {
   "cell_type": "code",
   "execution_count": 3,
   "metadata": {},
   "outputs": [],
   "source": [
    "# Load coordinates:\n",
    "coordinates_Px = FFvector_fread('../0. full order/vv_cc_Px.btxt')\n",
    "coordinates_Pq = FFvector_fread('../0. full order/vv_cc_Pq.btxt')\n",
    "\n",
    "# Identify degrees of freedom of the Px and Pq spaces:\n",
    "sFO_Px = coordinates_Px.shape[0]\n",
    "sFO_Pq = coordinates_Pq.shape[0]\n",
    "\n",
    "# Define vector of all Px indeces:\n",
    "mask_all = np.arange(sFO_Px, dtype=int)\n",
    "\n",
    "# Identify indeces of the top, bottom and middle boundaries in Px:\n",
    "mask_inf_bc = mask_all[np.isclose([coordinates_Px[ii, 2] for ii in range(sFO_Px)], np.zeros((sFO_Px)))]\n",
    "mask_sup_bc = mask_all[np.isclose([coordinates_Px[ii, 2] for ii in range(sFO_Px)], np.ones((sFO_Px)))]\n",
    "mask_mid_bc = mask_all[np.isclose([np.linalg.norm(coordinates_Px[ii, :2]) for ii in range(sFO_Px)], np.ones((sFO_Px)))]\n",
    "\n",
    "# Identify indeces of the Dirichlet b.c. for the temperature and concentration field:\n",
    "mask_bc_T = np.fromiter(set(mask_sup_bc), int)\n",
    "mask_bc_C = np.fromiter(set(mask_sup_bc) | set(mask_mid_bc) | set(mask_inf_bc), int)\n",
    "\n",
    "# Identify indeces of the interior for the temperature and concentration field:\n",
    "mask_in_T = [ii for ii in mask_all if ii not in mask_bc_T]\n",
    "mask_in_C = [ii for ii in mask_all if ii not in mask_bc_C]"
   ]
  },
  {
   "cell_type": "markdown",
   "metadata": {},
   "source": [
    "#### DEFINE FINITE ELEMENT ESSENTIALS"
   ]
  },
  {
   "cell_type": "code",
   "execution_count": 4,
   "metadata": {},
   "outputs": [],
   "source": [
    "# Import mass matrices on the Px and on the Pq space:\n",
    "mass_Px = FFmatrix_fread('../0. full order/ww_mm_Px.btxt')\n",
    "mass_Pq = FFmatrix_fread('../0. full order/ww_mm_Pq.btxt')\n",
    "\n",
    "# Compute volume of the domain:\n",
    "volume = mass_Px.dot(np.ones(sFO_Px)).dot(np.ones(sFO_Px))\n",
    "\n",
    "# Extract integration weights and diagonal matrix with their inverse:\n",
    "weights_Pq = mass_Pq.diagonal()\n",
    "project_Pq = sparse.diags(np.reciprocal(weights_Pq))\n",
    "\n",
    "# Import map from Px to Pq and to the dx, dy, dz derivative evaluated in Pq:\n",
    "PxtoPquu_C = project_Pq.dot(FFmatrix_fread('../0. full order/ww_uu_Px_Pq.btxt')[:, mask_in_C])\n",
    "PxtoPqdx_C = project_Pq.dot(FFmatrix_fread('../0. full order/ww_dx_Px_Pq.btxt')[:, mask_in_C])\n",
    "PxtoPqdy_C = project_Pq.dot(FFmatrix_fread('../0. full order/ww_dy_Px_Pq.btxt')[:, mask_in_C])\n",
    "PxtoPqdz_C = project_Pq.dot(FFmatrix_fread('../0. full order/ww_dz_Px_Pq.btxt')[:, mask_in_C])\n",
    "\n",
    "# Assemble mass matrix and projected forcing term:\n",
    "forc_C = PxtoPquu_C.T.dot(weights_Pq[:, None])\n",
    "mass_C = PxtoPquu_C.T.dot(PxtoPquu_C.multiply(weights_Pq[:, None]))\n",
    "inte_C = mass_Px.dot(np.ones((sFO_Px)))[mask_in_C] / volume\n",
    "\n",
    "# Assemble a function assembling the stiffness matrix at a given time:\n",
    "stiff_C = PxtoPqdx_C.T.dot(PxtoPqdx_C.multiply(ALPHA_C(coordinates_Pq[:, 2:3]) / RADIUS**2 * weights_Pq[:, None])) + \\\n",
    "          PxtoPqdy_C.T.dot(PxtoPqdy_C.multiply(ALPHA_C(coordinates_Pq[:, 2:3]) / RADIUS**2 * weights_Pq[:, None])) + \\\n",
    "          PxtoPqdz_C.T.dot(PxtoPqdz_C.multiply(ALPHA_C(coordinates_Pq[:, 2:3]) / LENGTH**2 * weights_Pq[:, None]))"
   ]
  },
  {
   "cell_type": "markdown",
   "metadata": {},
   "source": [
    "#### DEFINE PARAMETERS TRAINING SET\n",
    "$\\Xi_{train}$"
   ]
  },
  {
   "cell_type": "code",
   "execution_count": 5,
   "metadata": {},
   "outputs": [],
   "source": [
    "# Define size of the training parameter set:\n",
    "sTR = 10000\n",
    "\n",
    "# Define parameters ranges:\n",
    "MIN_FR, MAX_FR = 0, 5.00E+19                                                                  #FISSION_RATE\n",
    "MIN_BC, MAX_BC = 1.75E+03, 2.5E+03                                                            #La potrei anche tenere costante. \n",
    "MIN_LL, MAX_LL = 0.75E-3, 1.25E-3\n",
    "MIN_RR, MAX_RR = 0.75E-5, 1.25E-5\n",
    "MIN_FY, MAX_FY = 0.00, 0.3 \n",
    "MIN_RHO, MAX_RHO = 6000, 12000                                                                 #FUEL_DENSITY\n",
    "MIN_CP, MAX_CP =  200, 500                                                                     #FUEL_SPECIFIC_HEAT\n",
    "MIN_K, MAX_K =  0.9, 8                                                                         #FUEL_THERMAL_CONDUCTIVITY\n",
    "#MIN_Q3, MAX_Q3 = FISSION_ENERGY*MIN_FR,  FISSION_ENERGY*MAX_FR                                #POWER_DENSITY \n",
    "#MIN_ALPHA, MAX_ALPHA = MIN_K/(MIN_RHO*MIN_CP), MAX_K/(MAX_RHO*MAX_CP)                         #FUEL_THERMAL_DIFFUSIVTY\n",
    "#MIN_GG, MAX_GG = ((MIN_Q3/(MIN_RHO*MIN_CP)) / MIN_ALPHA) * MIN_LL**2,   ((MAX_Q3/(MAX_RHO*MAX_CP)) / MAX_ALPHA) * MAX_LL**2\n",
    "#MIN_GG, MAX_GG = (7.27E-18 / 5.00E-07) * MIN_FR * MIN_LL**2, (7.27E-18 / 5.00E-07) * MAX_FR * MAX_LL**2  #OLD\n",
    "#MIN_FH , MAX_FH = FISSION_ENERGY/(MIN_RHO*MIN_CP), FISSION_ENERGY/(MAX_RHO*MAX_CP)            #FISSION_HEAT -> non mi serve\n",
    "\n",
    "# Compute a list of random parameters within the range:\n",
    "LIST_FR = np.random.uniform(low=MIN_FR, high=MAX_FR, size=(sTR))\n",
    "LIST_BC = np.random.uniform(low=MIN_BC, high=MAX_BC, size=(sTR))\n",
    "LIST_LL = np.random.uniform(low=MIN_LL, high=MAX_LL, size=(sTR))\n",
    "LIST_RR = np.random.uniform(low=MIN_RR, high=MAX_RR, size=(sTR))\n",
    "LIST_FY = np.random.uniform(low=MIN_FY, high=MAX_FY, size=(sTR))\n",
    "LIST_RHO = np.random.uniform(low=MIN_RHO, high=MAX_RHO, size=(sTR))\n",
    "LIST_CP = np.random.uniform(low=MIN_CP, high=MAX_CP, size=(sTR))\n",
    "LIST_K = np.random.uniform(low=MIN_K, high=MAX_K, size=(sTR))\n",
    "LIST_Q3 = FISSION_ENERGY*LIST_FR\n",
    "LIST_ALPHA = LIST_K/(LIST_RHO*LIST_CP)\n",
    "LIST_GG = ((LIST_Q3/(LIST_RHO*LIST_CP))/LIST_ALPHA) * LIST_LL**2\n",
    "#LIST_GG = (7.27E-18 / 5.00E-07) * LIST_FR * LIST_LL**2\n",
    "\n",
    "# Extract z coordinates from the list of all Pq points coordinates and map those coordinates to the Pq points:\n",
    "ZZ = np.sort(list(set(coordinates_Pq[:, 2])))\n",
    "ZZ_1Dto3D = sparse.csr_matrix(np.array([coordinates_Pq[:, 2] == ZZ[kk] for kk in range(len(ZZ))]).T) * 1\n",
    "\n",
    "# Compute a training set of concentration diffusion coefficients evaluated at the z coordinates: \n",
    "TRAINING = np.empty((len(ZZ), sTR))\n",
    "for ii in range(sTR):\n",
    "    TRAINING[:, ii] = ALPHA_C(ZZ, T_BC=LIST_BC[ii], GAMMA_T=LIST_GG[ii]) #-> N"
   ]
  },
  {
   "cell_type": "markdown",
   "metadata": {},
   "source": [
    "#### CONSTRUCT AN AFFINE DECOMPOSITION FOR THE CONCENTRATION DIFFUSION COEFFICIENTS\n",
    "\n",
    "Ora costruiamo le basi $\\zeta_i(\\mathbf{x})$"
   ]
  },
  {
   "cell_type": "code",
   "execution_count": 6,
   "metadata": {},
   "outputs": [
    {
     "name": "stdout",
     "output_type": "stream",
     "text": [
      "2.2373137402251605e-07\n",
      "(190, 190)\n"
     ]
    }
   ],
   "source": [
    "# Compress the training set using singular value decomposition:\n",
    "UU, SS, VV = np.linalg.svd(TRAINING @ TRAINING.T, full_matrices=False) \n",
    "NN = np.sum(np.sqrt([np.sum(SS[ii:]) / np.sum(SS) for ii in range(len(SS))]) > 1e-6) + 1 #N dopo SVD\n",
    " \n",
    "# Construct 1D and 3D basis for the concentration diffusion coefficient:\n",
    "BASIS_D_1D = UU[:, :NN]                  #-> we construct the rank-p approximation basis \n",
    "BASIS_D_3D = ZZ_1Dto3D @ BASIS_D_1D\n",
    "\n",
    "# Use a greedy algorithm to identify the points (indeces) to interpolate the exact concentration coefficients:\n",
    "INT_COO = [np.argmax(np.abs(BASIS_D_1D[:, 0]))] #-> chose the first index (initialization) \n",
    "for ii in range(1, NN):  \n",
    "    INT_COO.append(np.argmax(np.abs(BASIS_D_1D[:, ii] - BASIS_D_1D[:, :ii] @ np.linalg.solve(BASIS_D_1D[INT_COO, :ii],  BASIS_D_1D[INT_COO, ii]))))\n",
    "#-> construct first measurement matrix \n",
    "# Extrat the z coordinates associated with the selected indeces: CO = indici sul vettore delle posizioni.   \n",
    "INT_COO = np.array(INT_COO)\n",
    "INT_CZZ = np.array([ZZ[INT_COO[ii]] for ii in range(NN)]) \n",
    "\n",
    "# Define interpolation operator mapping from the diffusion coefficient evaluated in the interpolation points to the linear combination coefficients:\n",
    "mapDAtoCO = np.linalg.solve(BASIS_D_1D[INT_COO, :], np.eye(NN))\n",
    "\n",
    "# Estimate the absolute and relative errors committed with this interpolation approach:\n",
    "ABS_ERR = np.linalg.norm(TRAINING - BASIS_D_1D @ mapDAtoCO @ TRAINING[INT_COO, :], axis=0) \n",
    "REL_ERR = ABS_ERR / np.linalg.norm(TRAINING, axis=0)\n",
    "\n",
    "# Print maximum error:\n",
    "print(np.max(REL_ERR))\n",
    "print(VV.shape)"
   ]
  },
  {
   "cell_type": "code",
   "execution_count": 7,
   "metadata": {},
   "outputs": [
    {
     "data": {
      "image/png": "[encoded data removed]",
      "text/plain": [
       "<Figure size 600x500 with 1 Axes>"
      ]
     },
     "metadata": {},
     "output_type": "display_data"
    }
   ],
   "source": [
    "#guardiamo la missing energy del termine non-affine -> queste basi ridotte dopo le usiamo per davvero\n",
    "missing = np.sqrt([np.sum(SS[ii:]) / np.sum(SS) for ii in range(len(SS))])\n",
    "fig, (ax1) = plt.subplots(1, figsize=(6,5))\n",
    "ax1.set_yscale('log')\n",
    "ax1.plot(range(1,26), missing[:25], '-o')\n",
    "ax1.tick_params(axis=\"y\", labelsize=13)\n",
    "ax1.tick_params(axis='x', labelsize=13)\n",
    "ax1.set_xlabel('Number of modes',fontsize=14)\n",
    "ax1.set_ylabel('Missing energy',fontsize=14)\n",
    "ax1.axvspan(1, NN, color='gray', alpha=0.2)\n",
    "plt.savefig(os.path.join('Missing energy.pdf'), bbox_inches='tight')"
   ]
  },
  {
   "cell_type": "markdown",
   "metadata": {},
   "source": [
    "#### ASSEMBLE AFFINELY DECOMPOSED STIFFNESS MATRICES AND COMPUTE THEIR COERCIVITY CONSTANTS\n",
    "required 13 minutes"
   ]
  },
  {
   "cell_type": "code",
   "execution_count": 8,
   "metadata": {},
   "outputs": [],
   "source": [
    "# Define two mass matrices respectively linked to the regularity of the solution and of its time derivative:\n",
    "Y_mass = stiff_C\n",
    "X_mass = mass_C\n",
    "\n",
    "# Initialise array for the partial stiffness matrices and for their coercivity constants:\n",
    "list_basis_stiff_C = np.array([sparse.csr_matrix((mass_C.shape)) for ii in range(2*NN)])\n",
    "list_coerc_stiff_C = np.zeros((2*NN))\n",
    "\n",
    "# Iterate over the selected basis for the diffusion coefficient field\n",
    "for ii in range(NN):\n",
    "\n",
    "    # Assemble the axial and radial partial stiffness matrices associated with the basis of the diffusivity:\n",
    "    list_basis_stiff_C[NN+ii] = PxtoPqdz_C.T.dot(PxtoPqdz_C.multiply(BASIS_D_3D[:, ii:ii+1] * weights_Pq[:, None]))\n",
    "    list_basis_stiff_C[00+ii] = PxtoPqdx_C.T.dot(PxtoPqdx_C.multiply(BASIS_D_3D[:, ii:ii+1] * weights_Pq[:, None])) + \\\n",
    "                                PxtoPqdy_C.T.dot(PxtoPqdy_C.multiply(BASIS_D_3D[:, ii:ii+1] * weights_Pq[:, None]))\n",
    "\n",
    "    # Compute the sign of the axial and radial partial stiffness matrices:\n",
    "    tsign_dz_C = np.sign(list_basis_stiff_C[NN + ii].trace())\n",
    "    tsign_dr_C = np.sign(list_basis_stiff_C[00 + ii].trace())\n",
    "\n",
    "    # Compute the coercivity constant of the axial and radial partial stiffness matrices:\n",
    "    list_coerc_stiff_C[NN+ii] = tsign_dz_C / linalg.eigsh(Y_mass, k=1, M=tsign_dz_C * list_basis_stiff_C[NN+ii], which='LM', return_eigenvectors=False)[0]\n",
    "    list_coerc_stiff_C[00+ii] = tsign_dr_C / linalg.eigsh(Y_mass, k=1, M=tsign_dr_C * list_basis_stiff_C[00+ii], which='LM', return_eigenvectors=False)[0]"
   ]
  },
  {
   "cell_type": "markdown",
   "metadata": {},
   "source": [
    "#### SAVE ESSENTIAL FILES"
   ]
  },
  {
   "cell_type": "code",
   "execution_count": 9,
   "metadata": {},
   "outputs": [],
   "source": [
    "# Save essentail files:\n",
    "np.save('model_files/FF_FO.npy', forc_C)\n",
    "np.save('model_files/XX_FO.npy', np.array([mass_C]))\n",
    "np.save('model_files/YY_FO.npy', np.array([stiff_C]))\n",
    "np.save('model_files/KK_FO.npy', list_basis_stiff_C)\n",
    "np.save('model_files/CC_FO.npy', list_coerc_stiff_C)\n",
    "np.save('model_files/ZZ_FO.npy', INT_CZZ)\n",
    "np.save('model_files/II_FO.npy', mapDAtoCO)          \n",
    "np.save('model_files/AA_FO.npy', inte_C)"
   ]
  },
  {
   "cell_type": "code",
   "execution_count": 10,
   "metadata": {},
   "outputs": [],
   "source": [
    "# Import user defined libraries:\n",
    "from solver_class import FiniteElementCylinderSolver, ReducedBasisCylinderSolver"
   ]
  },
  {
   "cell_type": "markdown",
   "metadata": {},
   "source": [
    "### RE-SAMPLING OF PARAMETERS TRAINING SET"
   ]
  },
  {
   "cell_type": "code",
   "execution_count": 12,
   "metadata": {},
   "outputs": [],
   "source": [
    "# Define size of the training parameter set:\n",
    "sTR = 10000\n",
    "\n",
    "# Define parameters ranges:\n",
    "MIN_FR, MAX_FR = 2.00E+19, 3.00E+19 \n",
    "MIN_BC, MAX_BC = 1.75E+03, 2.25E+03\n",
    "MIN_LL, MAX_LL = 0.75E-3, 1.25E-3\n",
    "MIN_RR, MAX_RR = 0.75E-5, 1.25E-5\n",
    "MIN_FY, MAX_FY = 0.00, 0.3 \n",
    "#MIN_Q3, MAX_Q3 = FISSION_ENERGY*MIN_FR,  FISSION_ENERGY*MAX_FR                                #POWER_DENSITY \n",
    "MIN_RHO, MAX_RHO = 6000, 12000                                                                #FUEL_DENSITY\n",
    "MIN_CP, MAX_CP =  200, 500\n",
    "MIN_K, MAX_K =  0.9, 8                                                                        #FUEL_THERMAL_CONDUCTIVITY\n",
    "#MIN_ALPHA, MAX_ALPHA = MIN_K/(MIN_RHO*MIN_CP), MAX_K/(MAX_RHO*MAX_CP)                         #FUEL_THERMAL_DIFFUSIVTY\n",
    "#MIN_GG, MAX_GG = ((MIN_Q3/(MIN_RHO*MIN_CP)) / MIN_ALPHA) * MIN_LL**2,   ((MAX_Q3/(MAX_RHO*MAX_CP)) / MAX_ALPHA) * MAX_LL**2\n",
    "\n",
    "# Compute a list of random parameters within the range:\n",
    "LIST_FR = np.random.uniform(low=MIN_FR, high=MAX_FR, size=(sTR))\n",
    "LIST_BC = np.random.uniform(low=MIN_BC, high=MAX_BC, size=(sTR))\n",
    "LIST_LL = np.random.uniform(low=MIN_LL, high=MAX_LL, size=(sTR))\n",
    "LIST_RR = np.random.uniform(low=MIN_RR, high=MAX_RR, size=(sTR))\n",
    "LIST_FY = np.random.uniform(low=MIN_FY, high=MAX_FY, size=(sTR))\n",
    "LIST_RHO = np.random.uniform(low=MIN_RHO, high=MAX_RHO, size=(sTR))\n",
    "LIST_CP = np.random.uniform(low=MIN_CP, high=MAX_CP, size=(sTR))\n",
    "LIST_K = np.random.uniform(low=MIN_K, high=MAX_K, size=(sTR))\n",
    "LIST_Q3 = FISSION_ENERGY*LIST_FR\n",
    "LIST_ALPHA = LIST_K/(LIST_RHO*LIST_CP)\n",
    "LIST_GG = ((LIST_Q3/(LIST_RHO*LIST_CP))/LIST_ALPHA) * LIST_LL**2\n",
    "\n",
    "#np.random.uniform(low=MIN_GG, high=MAX_GG, size=(sTR))"
   ]
  },
  {
   "cell_type": "markdown",
   "metadata": {},
   "source": [
    "### POD-GREEDY"
   ]
  },
  {
   "cell_type": "code",
   "execution_count": 13,
   "metadata": {
    "scrolled": true
   },
   "outputs": [
    {
     "name": "stdout",
     "output_type": "stream",
     "text": [
      "The current reduced basis size is 15\n",
      "The selected Boundary Temperature is 1763.8160402150236 K\n",
      "The selected Fission Rate is 2.798467917480335e+19 fiss/s\n",
      "The selected Grain Length is 0.001229939051394402 m\n",
      "The selected Grain Radius is 1.0093971610784219e-05 m\n",
      "The selected Fission Yield is 0.08693397670935896 at/fiss\n",
      "The selected Fuel Density is 11447.116171041369 kg/m^3\n",
      "The selected Fuel Specific Heat is 316.78836188044767 J/(kg K)\n",
      "The selected Fuel Thermal Conductivity is 1.019552252843576 W/(m K)\n",
      "\n",
      "The current reduced basis size is 26\n",
      "The selected Boundary Temperature is 2205.295616134407 K\n",
      "The selected Fission Rate is 2.098863249129877e+19 fiss/s\n",
      "The selected Grain Length is 0.0007611923428710527 m\n",
      "The selected Grain Radius is 1.2464723269605074e-05 m\n",
      "The selected Fission Yield is 0.1310537233235097 at/fiss\n",
      "The selected Fuel Density is 6383.9634137464545 kg/m^3\n",
      "The selected Fuel Specific Heat is 313.9909826221036 J/(kg K)\n",
      "The selected Fuel Thermal Conductivity is 6.577239907301225 W/(m K)\n",
      "\n",
      "The current reduced basis size is 35\n",
      "The selected Boundary Temperature is 1769.1746404545145 K\n",
      "The selected Fission Rate is 2.6195020452352197e+19 fiss/s\n",
      "The selected Grain Length is 0.0010191069051221882 m\n",
      "The selected Grain Radius is 1.1322511577193999e-05 m\n",
      "The selected Fission Yield is 0.17435043957603025 at/fiss\n",
      "The selected Fuel Density is 11790.788540233209 kg/m^3\n",
      "The selected Fuel Specific Heat is 340.07548135109187 J/(kg K)\n",
      "The selected Fuel Thermal Conductivity is 1.0503630502760206 W/(m K)\n",
      "\n",
      "The current reduced basis size is 44\n",
      "The selected Boundary Temperature is 2236.2586870236114 K\n",
      "The selected Fission Rate is 2.0836105056925622e+19 fiss/s\n",
      "The selected Grain Length is 0.0011157896309090024 m\n",
      "The selected Grain Radius is 7.775730908143962e-06 m\n",
      "The selected Fission Yield is 0.11206811691710263 at/fiss\n",
      "The selected Fuel Density is 10705.709440679471 kg/m^3\n",
      "The selected Fuel Specific Heat is 333.6071368639875 J/(kg K)\n",
      "The selected Fuel Thermal Conductivity is 7.891065658978835 W/(m K)\n",
      "\n",
      "The current reduced basis size is 46\n",
      "The selected Boundary Temperature is 1756.8860356393589 K\n",
      "The selected Fission Rate is 2.247808317732038e+19 fiss/s\n",
      "The selected Grain Length is 0.0007853917979133802 m\n",
      "The selected Grain Radius is 1.2347703783206262e-05 m\n",
      "The selected Fission Yield is 0.21677723909090532 at/fiss\n",
      "The selected Fuel Density is 8286.217934578766 kg/m^3\n",
      "The selected Fuel Specific Heat is 333.03874513956487 J/(kg K)\n",
      "The selected Fuel Thermal Conductivity is 7.500046165520831 W/(m K)\n",
      "\n",
      "The current reduced basis size is 55\n",
      "The selected Boundary Temperature is 1998.4699631250082 K\n",
      "The selected Fission Rate is 2.946947406196796e+19 fiss/s\n",
      "The selected Grain Length is 0.001234731003388475 m\n",
      "The selected Grain Radius is 7.690886932351032e-06 m\n",
      "The selected Fission Yield is 0.1493550893798008 at/fiss\n",
      "The selected Fuel Density is 7251.167749142865 kg/m^3\n",
      "The selected Fuel Specific Heat is 225.54088294704718 J/(kg K)\n",
      "The selected Fuel Thermal Conductivity is 1.2945714111956717 W/(m K)\n",
      "\n",
      "The current reduced basis size is 58\n",
      "The selected Boundary Temperature is 2042.6504453105797 K\n",
      "The selected Fission Rate is 2.7074489294577676e+19 fiss/s\n",
      "The selected Grain Length is 0.0008331856977437343 m\n",
      "The selected Grain Radius is 1.2036678228038856e-05 m\n",
      "The selected Fission Yield is 0.03257499825229173 at/fiss\n",
      "The selected Fuel Density is 10213.029435076762 kg/m^3\n",
      "The selected Fuel Specific Heat is 279.13718973020485 J/(kg K)\n",
      "The selected Fuel Thermal Conductivity is 0.955005884878078 W/(m K)\n",
      "\n"
     ]
    },
    {
     "ename": "KeyboardInterrupt",
     "evalue": "",
     "output_type": "error",
     "traceback": [
      "\u001b[0;31m---------------------------------------------------------------------------\u001b[0m",
      "\u001b[0;31mKeyboardInterrupt\u001b[0m                         Traceback (most recent call last)",
      "Cell \u001b[0;32mIn[13], line 24\u001b[0m\n\u001b[1;32m     22\u001b[0m solver_FO \u001b[38;5;241m=\u001b[39m FiniteElementCylinderSolver()\n\u001b[1;32m     23\u001b[0m solver_FO\u001b[38;5;241m.\u001b[39massemble(RADIUS\u001b[38;5;241m=\u001b[39mcur_RR, LENGTH\u001b[38;5;241m=\u001b[39mcur_LL, F_RATE\u001b[38;5;241m=\u001b[39mcur_FR, F_YIELD\u001b[38;5;241m=\u001b[39mcur_FY, RHO\u001b[38;5;241m=\u001b[39mcur_RHO, CP\u001b[38;5;241m=\u001b[39mcur_CP, T_BC\u001b[38;5;241m=\u001b[39mcur_BC, KTH\u001b[38;5;241m=\u001b[39mcur_K , dt\u001b[38;5;241m=\u001b[39mcur_dt)\n\u001b[0;32m---> 24\u001b[0m solution_FO \u001b[38;5;241m=\u001b[39m \u001b[43msolver_FO\u001b[49m\u001b[38;5;241;43m.\u001b[39;49m\u001b[43msolve\u001b[49m\u001b[43m(\u001b[49m\u001b[43mn_steps\u001b[49m\u001b[38;5;241;43m=\u001b[39;49m\u001b[38;5;241;43m1000\u001b[39;49m\u001b[43m,\u001b[49m\u001b[43m \u001b[49m\u001b[43mverbose\u001b[49m\u001b[38;5;241;43m=\u001b[39;49m\u001b[38;5;28;43;01mFalse\u001b[39;49;00m\u001b[43m)\u001b[49m\n\u001b[1;32m     26\u001b[0m \u001b[38;5;66;03m# Compute orthogonal complement to the basis function and solution energy:\u001b[39;00m\n\u001b[1;32m     27\u001b[0m orthogonal_FO \u001b[38;5;241m=\u001b[39m solution_FO \u001b[38;5;241m-\u001b[39m cur_basis \u001b[38;5;241m@\u001b[39m np\u001b[38;5;241m.\u001b[39mlinalg\u001b[38;5;241m.\u001b[39msolve(cur_basis\u001b[38;5;241m.\u001b[39mT \u001b[38;5;241m@\u001b[39m solver_FO\u001b[38;5;241m.\u001b[39mXX_FO \u001b[38;5;241m@\u001b[39m cur_basis, cur_basis\u001b[38;5;241m.\u001b[39mT \u001b[38;5;241m@\u001b[39m solver_FO\u001b[38;5;241m.\u001b[39mXX_FO \u001b[38;5;241m@\u001b[39m solution_FO)\n",
      "File \u001b[0;32m~/Library/CloudStorage/OneDrive-PolitecnicodiMilano/PhD/Git/rom-cylinder_DEIM-POD/offline-online stages/fit White/2. DEIM-POD/solver_class.py:73\u001b[0m, in \u001b[0;36mFiniteElementCylinderSolver.solve\u001b[0;34m(self, n_steps, verbose)\u001b[0m\n\u001b[1;32m     71\u001b[0m solution \u001b[38;5;241m=\u001b[39m np\u001b[38;5;241m.\u001b[39mzeros((\u001b[38;5;28mself\u001b[39m\u001b[38;5;241m.\u001b[39msFO, n_steps\u001b[38;5;241m+\u001b[39m\u001b[38;5;241m1\u001b[39m))\n\u001b[1;32m     72\u001b[0m \u001b[38;5;28;01mfor\u001b[39;00m ii \u001b[38;5;129;01min\u001b[39;00m \u001b[38;5;28mrange\u001b[39m(n_steps):\n\u001b[0;32m---> 73\u001b[0m     solution[:, ii\u001b[38;5;241m+\u001b[39m\u001b[38;5;241m1\u001b[39m], _ \u001b[38;5;241m=\u001b[39m \u001b[43mlinalg\u001b[49m\u001b[38;5;241;43m.\u001b[39;49m\u001b[43mbicgstab\u001b[49m\u001b[43m(\u001b[49m\u001b[38;5;28;43mself\u001b[39;49m\u001b[38;5;241;43m.\u001b[39;49m\u001b[43mLHS_static\u001b[49m\u001b[43m,\u001b[49m\u001b[43m \u001b[49m\u001b[38;5;28;43mself\u001b[39;49m\u001b[38;5;241;43m.\u001b[39;49m\u001b[43mRHS_static\u001b[49m\u001b[43m \u001b[49m\u001b[38;5;241;43m+\u001b[39;49m\u001b[43m \u001b[49m\u001b[38;5;28;43mself\u001b[39;49m\u001b[38;5;241;43m.\u001b[39;49m\u001b[43mXX_FO\u001b[49m\u001b[38;5;241;43m.\u001b[39;49m\u001b[43mdot\u001b[49m\u001b[43m(\u001b[49m\u001b[43msolution\u001b[49m\u001b[43m[\u001b[49m\u001b[43m:\u001b[49m\u001b[43m \u001b[49m\u001b[43m,\u001b[49m\u001b[43m \u001b[49m\u001b[43mii\u001b[49m\u001b[43m:\u001b[49m\u001b[43mii\u001b[49m\u001b[38;5;241;43m+\u001b[39;49m\u001b[38;5;241;43m1\u001b[39;49m\u001b[43m]\u001b[49m\u001b[43m)\u001b[49m\u001b[43m)\u001b[49m\n\u001b[1;32m     75\u001b[0m     \u001b[38;5;66;03m# Print current iteration and average temperature and concentration:\u001b[39;00m\n\u001b[1;32m     76\u001b[0m     \u001b[38;5;28;01mif\u001b[39;00m verbose:\n",
      "File \u001b[0;32m~/Library/Python/3.9/lib/python/site-packages/scipy/_lib/deprecation.py:213\u001b[0m, in \u001b[0;36m_deprecate_positional_args.<locals>._inner_deprecate_positional_args.<locals>.inner_f\u001b[0;34m(*args, **kwargs)\u001b[0m\n\u001b[1;32m    211\u001b[0m extra_args \u001b[38;5;241m=\u001b[39m \u001b[38;5;28mlen\u001b[39m(args) \u001b[38;5;241m-\u001b[39m \u001b[38;5;28mlen\u001b[39m(all_args)\n\u001b[1;32m    212\u001b[0m \u001b[38;5;28;01mif\u001b[39;00m extra_args \u001b[38;5;241m<\u001b[39m\u001b[38;5;241m=\u001b[39m \u001b[38;5;241m0\u001b[39m:\n\u001b[0;32m--> 213\u001b[0m     \u001b[38;5;28;01mreturn\u001b[39;00m \u001b[43mf\u001b[49m\u001b[43m(\u001b[49m\u001b[38;5;241;43m*\u001b[39;49m\u001b[43margs\u001b[49m\u001b[43m,\u001b[49m\u001b[43m \u001b[49m\u001b[38;5;241;43m*\u001b[39;49m\u001b[38;5;241;43m*\u001b[39;49m\u001b[43mkwargs\u001b[49m\u001b[43m)\u001b[49m\n\u001b[1;32m    215\u001b[0m \u001b[38;5;66;03m# extra_args > 0\u001b[39;00m\n\u001b[1;32m    216\u001b[0m args_msg \u001b[38;5;241m=\u001b[39m [\n\u001b[1;32m    217\u001b[0m     \u001b[38;5;124mf\u001b[39m\u001b[38;5;124m\"\u001b[39m\u001b[38;5;132;01m{\u001b[39;00mname\u001b[38;5;132;01m}\u001b[39;00m\u001b[38;5;124m=\u001b[39m\u001b[38;5;132;01m{\u001b[39;00marg\u001b[38;5;132;01m}\u001b[39;00m\u001b[38;5;124m\"\u001b[39m\n\u001b[1;32m    218\u001b[0m     \u001b[38;5;28;01mfor\u001b[39;00m name, arg \u001b[38;5;129;01min\u001b[39;00m \u001b[38;5;28mzip\u001b[39m(kwonly_args[:extra_args], args[\u001b[38;5;241m-\u001b[39mextra_args:])\n\u001b[1;32m    219\u001b[0m ]\n",
      "File \u001b[0;32m~/Library/Python/3.9/lib/python/site-packages/scipy/sparse/linalg/_isolve/iterative.py:287\u001b[0m, in \u001b[0;36mbicgstab\u001b[0;34m(A, b, x0, tol, maxiter, M, callback, atol, rtol)\u001b[0m\n\u001b[1;32m    284\u001b[0m     p \u001b[38;5;241m=\u001b[39m r\u001b[38;5;241m.\u001b[39mcopy()\n\u001b[1;32m    286\u001b[0m phat \u001b[38;5;241m=\u001b[39m psolve(p)\n\u001b[0;32m--> 287\u001b[0m v \u001b[38;5;241m=\u001b[39m \u001b[43mmatvec\u001b[49m\u001b[43m(\u001b[49m\u001b[43mphat\u001b[49m\u001b[43m)\u001b[49m\n\u001b[1;32m    288\u001b[0m rv \u001b[38;5;241m=\u001b[39m dotprod(rtilde, v)\n\u001b[1;32m    289\u001b[0m \u001b[38;5;28;01mif\u001b[39;00m rv \u001b[38;5;241m==\u001b[39m \u001b[38;5;241m0\u001b[39m:\n",
      "File \u001b[0;32m~/Library/Python/3.9/lib/python/site-packages/scipy/sparse/linalg/_interface.py:236\u001b[0m, in \u001b[0;36mLinearOperator.matvec\u001b[0;34m(self, x)\u001b[0m\n\u001b[1;32m    233\u001b[0m \u001b[38;5;28;01mif\u001b[39;00m x\u001b[38;5;241m.\u001b[39mshape \u001b[38;5;241m!=\u001b[39m (N,) \u001b[38;5;129;01mand\u001b[39;00m x\u001b[38;5;241m.\u001b[39mshape \u001b[38;5;241m!=\u001b[39m (N,\u001b[38;5;241m1\u001b[39m):\n\u001b[1;32m    234\u001b[0m     \u001b[38;5;28;01mraise\u001b[39;00m \u001b[38;5;167;01mValueError\u001b[39;00m(\u001b[38;5;124m'\u001b[39m\u001b[38;5;124mdimension mismatch\u001b[39m\u001b[38;5;124m'\u001b[39m)\n\u001b[0;32m--> 236\u001b[0m y \u001b[38;5;241m=\u001b[39m \u001b[38;5;28;43mself\u001b[39;49m\u001b[38;5;241;43m.\u001b[39;49m\u001b[43m_matvec\u001b[49m\u001b[43m(\u001b[49m\u001b[43mx\u001b[49m\u001b[43m)\u001b[49m\n\u001b[1;32m    238\u001b[0m \u001b[38;5;28;01mif\u001b[39;00m \u001b[38;5;28misinstance\u001b[39m(x, np\u001b[38;5;241m.\u001b[39mmatrix):\n\u001b[1;32m    239\u001b[0m     y \u001b[38;5;241m=\u001b[39m asmatrix(y)\n",
      "File \u001b[0;32m~/Library/Python/3.9/lib/python/site-packages/scipy/sparse/linalg/_interface.py:203\u001b[0m, in \u001b[0;36mLinearOperator._matvec\u001b[0;34m(self, x)\u001b[0m\n\u001b[1;32m    193\u001b[0m \u001b[38;5;28;01mdef\u001b[39;00m \u001b[38;5;21m_matvec\u001b[39m(\u001b[38;5;28mself\u001b[39m, x):\n\u001b[1;32m    194\u001b[0m \u001b[38;5;250m    \u001b[39m\u001b[38;5;124;03m\"\"\"Default matrix-vector multiplication handler.\u001b[39;00m\n\u001b[1;32m    195\u001b[0m \n\u001b[1;32m    196\u001b[0m \u001b[38;5;124;03m    If self is a linear operator of shape (M, N), then this method will\u001b[39;00m\n\u001b[0;32m   (...)\u001b[0m\n\u001b[1;32m    201\u001b[0m \u001b[38;5;124;03m    will define matrix-vector multiplication as well.\u001b[39;00m\n\u001b[1;32m    202\u001b[0m \u001b[38;5;124;03m    \"\"\"\u001b[39;00m\n\u001b[0;32m--> 203\u001b[0m     \u001b[38;5;28;01mreturn\u001b[39;00m \u001b[38;5;28;43mself\u001b[39;49m\u001b[38;5;241;43m.\u001b[39;49m\u001b[43mmatmat\u001b[49m\u001b[43m(\u001b[49m\u001b[43mx\u001b[49m\u001b[38;5;241;43m.\u001b[39;49m\u001b[43mreshape\u001b[49m\u001b[43m(\u001b[49m\u001b[38;5;241;43m-\u001b[39;49m\u001b[38;5;241;43m1\u001b[39;49m\u001b[43m,\u001b[49m\u001b[43m \u001b[49m\u001b[38;5;241;43m1\u001b[39;49m\u001b[43m)\u001b[49m\u001b[43m)\u001b[49m\n",
      "File \u001b[0;32m~/Library/Python/3.9/lib/python/site-packages/scipy/sparse/linalg/_interface.py:340\u001b[0m, in \u001b[0;36mLinearOperator.matmat\u001b[0;34m(self, X)\u001b[0m\n\u001b[1;32m    337\u001b[0m     \u001b[38;5;28;01mraise\u001b[39;00m \u001b[38;5;167;01mValueError\u001b[39;00m(\u001b[38;5;124mf\u001b[39m\u001b[38;5;124m'\u001b[39m\u001b[38;5;124mdimension mismatch: \u001b[39m\u001b[38;5;132;01m{\u001b[39;00m\u001b[38;5;28mself\u001b[39m\u001b[38;5;241m.\u001b[39mshape\u001b[38;5;132;01m}\u001b[39;00m\u001b[38;5;124m, \u001b[39m\u001b[38;5;132;01m{\u001b[39;00mX\u001b[38;5;241m.\u001b[39mshape\u001b[38;5;132;01m}\u001b[39;00m\u001b[38;5;124m'\u001b[39m)\n\u001b[1;32m    339\u001b[0m \u001b[38;5;28;01mtry\u001b[39;00m:\n\u001b[0;32m--> 340\u001b[0m     Y \u001b[38;5;241m=\u001b[39m \u001b[38;5;28;43mself\u001b[39;49m\u001b[38;5;241;43m.\u001b[39;49m\u001b[43m_matmat\u001b[49m\u001b[43m(\u001b[49m\u001b[43mX\u001b[49m\u001b[43m)\u001b[49m\n\u001b[1;32m    341\u001b[0m \u001b[38;5;28;01mexcept\u001b[39;00m \u001b[38;5;167;01mException\u001b[39;00m \u001b[38;5;28;01mas\u001b[39;00m e:\n\u001b[1;32m    342\u001b[0m     \u001b[38;5;28;01mif\u001b[39;00m issparse(X) \u001b[38;5;129;01mor\u001b[39;00m is_pydata_spmatrix(X):\n",
      "File \u001b[0;32m~/Library/Python/3.9/lib/python/site-packages/scipy/sparse/linalg/_interface.py:800\u001b[0m, in \u001b[0;36mMatrixLinearOperator._matmat\u001b[0;34m(self, X)\u001b[0m\n\u001b[1;32m    799\u001b[0m \u001b[38;5;28;01mdef\u001b[39;00m \u001b[38;5;21m_matmat\u001b[39m(\u001b[38;5;28mself\u001b[39m, X):\n\u001b[0;32m--> 800\u001b[0m     \u001b[38;5;28;01mreturn\u001b[39;00m \u001b[38;5;28;43mself\u001b[39;49m\u001b[38;5;241;43m.\u001b[39;49m\u001b[43mA\u001b[49m\u001b[38;5;241;43m.\u001b[39;49m\u001b[43mdot\u001b[49m\u001b[43m(\u001b[49m\u001b[43mX\u001b[49m\u001b[43m)\u001b[49m\n",
      "File \u001b[0;32m~/Library/Python/3.9/lib/python/site-packages/scipy/sparse/_base.py:474\u001b[0m, in \u001b[0;36m_spbase.dot\u001b[0;34m(self, other)\u001b[0m\n\u001b[1;32m    472\u001b[0m     \u001b[38;5;28;01mreturn\u001b[39;00m \u001b[38;5;28mself\u001b[39m \u001b[38;5;241m*\u001b[39m other\n\u001b[1;32m    473\u001b[0m \u001b[38;5;28;01melse\u001b[39;00m:\n\u001b[0;32m--> 474\u001b[0m     \u001b[38;5;28;01mreturn\u001b[39;00m \u001b[38;5;28;43mself\u001b[39;49m\u001b[43m \u001b[49m\u001b[38;5;241;43m@\u001b[39;49m\u001b[43m \u001b[49m\u001b[43mother\u001b[49m\n",
      "File \u001b[0;32m~/Library/Python/3.9/lib/python/site-packages/scipy/sparse/_base.py:695\u001b[0m, in \u001b[0;36m_spbase.__matmul__\u001b[0;34m(self, other)\u001b[0m\n\u001b[1;32m    692\u001b[0m \u001b[38;5;28;01mif\u001b[39;00m isscalarlike(other):\n\u001b[1;32m    693\u001b[0m     \u001b[38;5;28;01mraise\u001b[39;00m \u001b[38;5;167;01mValueError\u001b[39;00m(\u001b[38;5;124m\"\u001b[39m\u001b[38;5;124mScalar operands are not allowed, \u001b[39m\u001b[38;5;124m\"\u001b[39m\n\u001b[1;32m    694\u001b[0m                      \u001b[38;5;124m\"\u001b[39m\u001b[38;5;124muse \u001b[39m\u001b[38;5;124m'\u001b[39m\u001b[38;5;124m*\u001b[39m\u001b[38;5;124m'\u001b[39m\u001b[38;5;124m instead\u001b[39m\u001b[38;5;124m\"\u001b[39m)\n\u001b[0;32m--> 695\u001b[0m \u001b[38;5;28;01mreturn\u001b[39;00m \u001b[38;5;28;43mself\u001b[39;49m\u001b[38;5;241;43m.\u001b[39;49m\u001b[43m_matmul_dispatch\u001b[49m\u001b[43m(\u001b[49m\u001b[43mother\u001b[49m\u001b[43m)\u001b[49m\n",
      "File \u001b[0;32m~/Library/Python/3.9/lib/python/site-packages/scipy/sparse/_base.py:590\u001b[0m, in \u001b[0;36m_spbase._matmul_dispatch\u001b[0;34m(self, other)\u001b[0m\n\u001b[1;32m    588\u001b[0m     \u001b[38;5;28;01mreturn\u001b[39;00m \u001b[38;5;28mself\u001b[39m\u001b[38;5;241m.\u001b[39m_matmul_vector(other)\n\u001b[1;32m    589\u001b[0m \u001b[38;5;28;01melif\u001b[39;00m other\u001b[38;5;241m.\u001b[39mshape \u001b[38;5;241m==\u001b[39m (N, \u001b[38;5;241m1\u001b[39m):\n\u001b[0;32m--> 590\u001b[0m     result \u001b[38;5;241m=\u001b[39m \u001b[38;5;28;43mself\u001b[39;49m\u001b[38;5;241;43m.\u001b[39;49m\u001b[43m_matmul_vector\u001b[49m\u001b[43m(\u001b[49m\u001b[43mother\u001b[49m\u001b[38;5;241;43m.\u001b[39;49m\u001b[43mravel\u001b[49m\u001b[43m(\u001b[49m\u001b[43m)\u001b[49m\u001b[43m)\u001b[49m\n\u001b[1;32m    591\u001b[0m     \u001b[38;5;28;01mif\u001b[39;00m \u001b[38;5;28mself\u001b[39m\u001b[38;5;241m.\u001b[39mndim \u001b[38;5;241m==\u001b[39m \u001b[38;5;241m1\u001b[39m:\n\u001b[1;32m    592\u001b[0m         \u001b[38;5;28;01mreturn\u001b[39;00m result\n",
      "File \u001b[0;32m~/Library/Python/3.9/lib/python/site-packages/scipy/sparse/_compressed.py:486\u001b[0m, in \u001b[0;36m_cs_matrix._matmul_vector\u001b[0;34m(self, other)\u001b[0m\n\u001b[1;32m    484\u001b[0m \u001b[38;5;66;03m# csr_matvec or csc_matvec\u001b[39;00m\n\u001b[1;32m    485\u001b[0m fn \u001b[38;5;241m=\u001b[39m \u001b[38;5;28mgetattr\u001b[39m(_sparsetools, \u001b[38;5;28mself\u001b[39m\u001b[38;5;241m.\u001b[39mformat \u001b[38;5;241m+\u001b[39m \u001b[38;5;124m'\u001b[39m\u001b[38;5;124m_matvec\u001b[39m\u001b[38;5;124m'\u001b[39m)\n\u001b[0;32m--> 486\u001b[0m \u001b[43mfn\u001b[49m\u001b[43m(\u001b[49m\u001b[43mM\u001b[49m\u001b[43m,\u001b[49m\u001b[43m \u001b[49m\u001b[43mN\u001b[49m\u001b[43m,\u001b[49m\u001b[43m \u001b[49m\u001b[38;5;28;43mself\u001b[39;49m\u001b[38;5;241;43m.\u001b[39;49m\u001b[43mindptr\u001b[49m\u001b[43m,\u001b[49m\u001b[43m \u001b[49m\u001b[38;5;28;43mself\u001b[39;49m\u001b[38;5;241;43m.\u001b[39;49m\u001b[43mindices\u001b[49m\u001b[43m,\u001b[49m\u001b[43m \u001b[49m\u001b[38;5;28;43mself\u001b[39;49m\u001b[38;5;241;43m.\u001b[39;49m\u001b[43mdata\u001b[49m\u001b[43m,\u001b[49m\u001b[43m \u001b[49m\u001b[43mother\u001b[49m\u001b[43m,\u001b[49m\u001b[43m \u001b[49m\u001b[43mresult\u001b[49m\u001b[43m)\u001b[49m\n\u001b[1;32m    488\u001b[0m \u001b[38;5;28;01mreturn\u001b[39;00m result\n",
      "\u001b[0;31mKeyboardInterrupt\u001b[0m: "
     ]
    }
   ],
   "source": [
    "# Define reference parameters:\n",
    "cur_FY = 2.40E-01\n",
    "cur_FR = 3.00E+19 \n",
    "cur_BC = 2.00E+03\n",
    "cur_LL = 1.00E-03\n",
    "cur_RR = 1.00E-05\n",
    "cur_FY = 0.24\n",
    "cur_RHO = 11040\n",
    "cur_CP = 400\n",
    "cur_K= 2.208\n",
    "cur_dt = 1.00E+04\n",
    "\n",
    "# Define empty basis functions matrix and empty list of error bounds:\n",
    "cur_basis = np.empty((FiniteElementCylinderSolver.sFO, 0))            #spazio ridotto di cui definisco il numero di righe ma zero colonne, proiettare su questo produce zero. \n",
    "cur_err_bounds = np.ones((sTR))  \n",
    "\n",
    "# Enter reduced basis space loop:\n",
    "new_sRB = np.inf   \n",
    "while new_sRB > 0: #while np.max(cur_err_bounds) > 1e-02 \n",
    "\n",
    "    # Assemble full order model and compute full order solution associated with the current parameter selection:\n",
    "    solver_FO = FiniteElementCylinderSolver()\n",
    "    solver_FO.assemble(RADIUS=cur_RR, LENGTH=cur_LL, F_RATE=cur_FR, F_YIELD=cur_FY, RHO=cur_RHO, CP=cur_CP, T_BC=cur_BC, KTH=cur_K , dt=cur_dt)\n",
    "    solution_FO = solver_FO.solve(n_steps=1000, verbose=False)\n",
    "\n",
    "    # Compute orthogonal complement to the basis function and solution energy:\n",
    "    orthogonal_FO = solution_FO - cur_basis @ np.linalg.solve(cur_basis.T @ solver_FO.XX_FO @ cur_basis, cur_basis.T @ solver_FO.XX_FO @ solution_FO)\n",
    "    solution_energy_FO = np.einsum('ik,ik', solver_FO.XX_FO @ solution_FO, solution_FO)                                                                 #equivalente traccia degli autovalori\n",
    "    \n",
    "    # Extract the POD basis from the full order solution:\n",
    "    AA, GG, BB = np.linalg.svd(orthogonal_FO.T @ solver_FO.XX_FO @ orthogonal_FO, full_matrices=False)\n",
    "    new_sRB = np.sum([np.sqrt(np.sum(GG[ii:]) / solution_energy_FO) > 1e-5 for ii in range(len(GG))])\n",
    "    cur_basis = np.hstack((cur_basis, orthogonal_FO @ AA[:, :new_sRB] @ np.diag(np.reciprocal(np.sqrt(GG[:new_sRB])))))                                #POD del complemento ortogonale.\n",
    "\n",
    "    # Assemble reduced basis model:\n",
    "    solver_RB = ReducedBasisCylinderSolver(cur_basis)                                                                                                  #quando passo le nuove basi ri-assembla il modello ridotto, converrebbe fare l'orlata aggiungendo il pezzo. \n",
    "    for kk in range(sTR):\n",
    "        solver_RB.assemble(RADIUS=LIST_RR[kk], LENGTH=LIST_LL[kk], F_RATE=LIST_FR[kk], F_YIELD=LIST_FY[kk], RHO=LIST_RHO[kk], CP=LIST_CP[kk],T_BC=LIST_BC[kk], KTH=LIST_K[kk], dt=cur_dt)\n",
    "\n",
    "        # Compute current reduced basis solution and error bound:\n",
    "        solution_RB, cur_err_bounds[kk] = solver_RB.solve(n_steps=1000, error_bound=True)\n",
    "\n",
    "    # Identify new parameters where to evaluate the full order model:\n",
    "    cur_FY = cur_FY\n",
    "    cur_FR = LIST_FR[np.argmax(cur_err_bounds)]\n",
    "    cur_BC = LIST_BC[np.argmax(cur_err_bounds)]\n",
    "    cur_LL = LIST_LL[np.argmax(cur_err_bounds)]\n",
    "    cur_RR = LIST_RR[np.argmax(cur_err_bounds)]\n",
    "    cur_FY = LIST_FY[np.argmax(cur_err_bounds)]\n",
    "    cur_RHO = LIST_RHO[np.argmax(cur_err_bounds)]\n",
    "    cur_CP = LIST_CP[np.argmax(cur_err_bounds)]\n",
    "    cur_K = LIST_K[np.argmax(cur_err_bounds)]\n",
    "\n",
    "\n",
    "    print(\"The current reduced basis size is\", cur_basis.shape[1])\n",
    "    # Show worse reconstructed parameter configuration:\n",
    "    print(\"The selected Boundary Temperature is\", cur_BC, \"K\")\n",
    "    print(\"The selected Fission Rate is\", cur_FR, \"fiss/s\")\n",
    "    print(\"The selected Grain Length is\", cur_LL, \"m\")\n",
    "    print(\"The selected Grain Radius is\", cur_RR, \"m\")\n",
    "    print(\"The selected Fission Yield is\", cur_FY, \"at/fiss\")\n",
    "    print(\"The selected Fuel Density is\", cur_RHO, \"kg/m^3\")\n",
    "    print(\"The selected Fuel Specific Heat is\", cur_CP, \"J/(kg K)\")\n",
    "    print(\"The selected Fuel Thermal Conductivity is\", cur_K, \"W/(m K)\\n\")"
   ]
  },
  {
   "cell_type": "code",
   "execution_count": 14,
   "metadata": {},
   "outputs": [
    {
     "data": {
      "text/plain": [
       "0.00027340692162658415"
      ]
     },
     "execution_count": 14,
     "metadata": {},
     "output_type": "execute_result"
    }
   ],
   "source": [
    "cur_err_bounds[np.argmax(cur_err_bounds)]"
   ]
  },
  {
   "cell_type": "code",
   "execution_count": 15,
   "metadata": {},
   "outputs": [],
   "source": [
    "import json\n",
    "\n",
    "# Parametri con nomi diretti\n",
    "data = {\n",
    "    \"T_BC\": cur_BC,                                # Boundary Temperature [K]\n",
    "    \"FISSION_RATE\": cur_FR,                        # Fission Rate [fiss/s]\n",
    "    \"LENGTH\": cur_LL,                              # Grain Length [m]\n",
    "    \"RADIUS\": cur_RR,                              # Grain Radius [m]\n",
    "    \"FISSION_YIELD\": cur_FY,                       # Fission Yield [at/fiss]\n",
    "    \"FUEL_DENSITY\": cur_RHO,                       # Fuel Density [kg/m^3]\n",
    "    \"FUEL_SPECIFIC_HEAT\": cur_CP,                  # Fuel Specific Heat [J/(kg K)]\n",
    "    \"FUEL_THERMAL_CONDUCTIVITY\": cur_K             # Fuel Thermal Conductivity [W/(m K)]\n",
    "}\n",
    "\n",
    "# Scrittura su file JSON\n",
    "with open(\"worst reconstructed parameters.json\", \"w\") as json_file:\n",
    "    json.dump(data, json_file, indent=4)\n"
   ]
  },
  {
   "cell_type": "code",
   "execution_count": 16,
   "metadata": {},
   "outputs": [],
   "source": [
    "#Estraiamo le matrici dal solver\n",
    "MM_RB = solver_RB.XX_RB    #matrice di massa. 2D\n",
    "FF_RB = solver_RB.FF_RB    #funzionalità contro il vettore unitario. 1D\n",
    "KK_RB = solver_RB.KK_RB    #basi della decomposizione affine della stiffness. 3D\n",
    "AA_RB = solver_RB.AA_RB    #l'integratore per calcolare il valor medio sul volume data la soluzione ridotta, questo può essere sostituito dalla funzione che calcola il valor medio su diversi slice. 1D\n",
    "ZZ_CO = solver_RB.ZZ_FO    #coordinate a cui dobbiamo valutare la temperatura. 1D \n",
    "II_CO = solver_RB.II_FO    #coefficienti che mappano i valori del coefficiente di diffusione valutata sulle temperature nei coefficienti di combinazione lineare della decomposizione affine. 2D"
   ]
  },
  {
   "cell_type": "code",
   "execution_count": 17,
   "metadata": {},
   "outputs": [],
   "source": [
    "# Salviamo tutte le matrici in un unico file HDF5\n",
    "with h5py.File('matrici_RB.h5', 'w') as hf:\n",
    "    hf.create_dataset('MM_RB', data=MM_RB)\n",
    "    hf.create_dataset('FF_RB', data=FF_RB)\n",
    "    hf.create_dataset('KK_RB', data=KK_RB)\n",
    "    hf.create_dataset('AA_RB', data=AA_RB)\n",
    "    hf.create_dataset('ZZ_CO', data=ZZ_CO)\n",
    "    hf.create_dataset('II_CO', data=II_CO)"
   ]
  }
 ],
 "metadata": {
  "kernelspec": {
   "display_name": "Python 3",
   "language": "python",
   "name": "python3"
  },
  "language_info": {
   "codemirror_mode": {
    "name": "ipython",
    "version": 3
   },
   "file_extension": ".py",
   "mimetype": "text/x-python",
   "name": "python",
   "nbconvert_exporter": "python",
   "pygments_lexer": "ipython3",
   "version": "3.9.6"
  }
 },
 "nbformat": 4,
 "nbformat_minor": 4
}
