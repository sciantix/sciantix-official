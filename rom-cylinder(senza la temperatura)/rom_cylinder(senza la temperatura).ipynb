{
 "cells": [
  {
   "cell_type": "code",
   "execution_count": 2,
   "metadata": {},
   "outputs": [
    {
     "name": "stdout",
     "output_type": "stream",
     "text": [
      "\u001b[H\u001b[2J"
     ]
    },
    {
     "name": "stderr",
     "output_type": "stream",
     "text": [
      "/var/folders/gs/p2p59ns16hlgpqv_027665gm0000gn/T/ipykernel_4671/1353762519.py:9: DeprecationWarning: `magic(...)` is deprecated since IPython 0.13 (warning added in 8.1), use run_line_magic(magic_name, parameter_s).\n",
      "  get_ipython().magic('clear')\n",
      "/var/folders/gs/p2p59ns16hlgpqv_027665gm0000gn/T/ipykernel_4671/1353762519.py:10: DeprecationWarning: `magic(...)` is deprecated since IPython 0.13 (warning added in 8.1), use run_line_magic(magic_name, parameter_s).\n",
      "  get_ipython().magic('reset -f')\n"
     ]
    }
   ],
   "source": [
    "#!/usr/bin/env python\n",
    "# -*-coding:utf-8 -*-\n",
    "'''\n",
    "@Time    :   26/07/2024 15:25:21\n",
    "@Author  :   Marty \n",
    "'''\n",
    "\n",
    "from IPython import get_ipython\n",
    "get_ipython().magic('clear')\n",
    "get_ipython().magic('reset -f')\n",
    "from IPython.display import display, Markdown\n",
    "\n",
    "import numpy as np\n",
    "from matplotlib import pyplot as plt\n",
    "\n",
    "\n",
    "import math \n",
    "import pandas as pd\n",
    "import os\n",
    "from scipy.linalg import lu, solve"
   ]
  },
  {
   "cell_type": "markdown",
   "metadata": {},
   "source": [
    "# **Caso cilindro con temperatura costante ($\\sim$ sfera)**"
   ]
  },
  {
   "cell_type": "markdown",
   "metadata": {},
   "source": [
    "$$\n",
    "\\frac{\\partial C(r,z,T)}{\\partial t} = \\underline{\\underline{D}}(r, z, T, \\dot{F}) \\nabla^2 C(r,z,T)  + S \n",
    "$$\n",
    "In coordinate cilindriche: \n",
    "$$\n",
    "\\frac{\\partial C(r,z,T)}{\\partial t} = \\underline{\\underline{D}}(r, z, T, \\dot{F}) \\frac{1}{r^2} \\frac{\\partial}{\\partial r} \\left(r^2 \\frac{\\partial}{\\partial r}C(r,z,T)\\right) + \\frac{\\partial}{\\partial z} \\left(\\underline{\\underline{D}}(r, z, T, \\dot{F}) \\frac{\\partial}{\\partial z} C(r,z,T) \\right) + S \n",
    "$$\n",
    "dove $S = \\dot{F} \\cdot y$ con $y$ il fission yield. \n",
    "\n",
    "$\\texttt{Adimensionalizzazione}$) adimensionalizziamo lungo la direzione $z$: \n",
    "$$\n",
    "L^2  \\frac{\\partial C(r,z,T)}{\\partial t} = L^2 \\nabla \\cdot (\\underline{\\underline{D}} \\nabla C(r,z,T)) + SL^2\n",
    "$$\n",
    "Linear combination: \n",
    "$$\n",
    "C= \\sum_{i=1}^{N} a_i(t) \\phi_i(r)\n",
    "$$\n",
    "\n",
    "$$\n",
    "L^2 \\sum_{i=1}^{N} \\phi_i(r) \\frac{\\partial a_i(t)}{\\partial t} = L^2 \\underline{\\underline{D}} \\sum_{i=1}^{N} (a_i(t) \\nabla ^2 \\phi_i(r)) + L^2 S\n",
    "$$\n",
    "Galerkin projection:\n",
    "$$ \n",
    "L^2 \\sum_{i=1}^{N} \\frac{\\partial a_i(t)}{\\partial t} \\int_{\\Omega} \\phi_j(r) \\cdot \\phi_i(r) d\\Omega = L^2 D a_i (t) \\int_{\\Omega} \\phi_j(r) \\cdot \\nabla^2 \\phi_i(r) d\\Omega + L^2 S \\int_{\\Omega} \\phi_j(r) d\\Omega\n",
    "$$\n",
    "Con le matrici:\n",
    "$$\n",
    "\\sum_{i=1}^{N} = \\frac{D}{R^2} \\ a_i (t) \\ X_{ij} + S P_i\n",
    "$$\n",
    "dove $X_{ij} = < \\phi_j(r), \\nabla \\cdot (\\underline{\\underline{G}} \\nabla \\phi_i(r))>_{L^2}$ e $P_j=<\\phi_j(r)>_{L^2}$ con: \n",
    "$$\n",
    "\\underline{\\underline{G}} = \\begin{bmatrix}\n",
    "    1 & 0 & 0 \\\\\n",
    "    0 & 1 & 0 \\\\\n",
    "    0 & 0 & \\frac{R^2}{L^2}\n",
    "\\end{bmatrix}\n",
    "$$\n",
    "di modo da poter portare fuori D in cui ho raccolto $R^2$ "
   ]
  },
  {
   "cell_type": "code",
   "execution_count": 3,
   "metadata": {},
   "outputs": [],
   "source": [
    "def lu_gauss(N, A, b):\n",
    "    \"\"\"\n",
    "    @brief LU decomposition, Doolittle algorithm, according to @ref Dahlquist, Germund, Ake Bjorck & Anderson, Ned, Numerical Methods, Prentice Hall, 1974.\n",
    "    La funzione esegue prima la decomposizione LU della matrice di input (A) memorizzando in essa le matrici inferiori e superiori.\n",
    "    Quindi, la soluzione del sistema viene eseguita utilizzando la matrice fattorizzata e un metodo di sostituzione all'indietro.\n",
    "    La soluzione viene memorizzata e restituita nel vettore b.\n",
    "    NB: Questa funzione può essere utilizzata anche per eseguire solo la decomposizione stessa (ad esempio, per il precondizionamento)\n",
    "    passando un vettore rhs fittizio.\n",
    "    \n",
    "    @param[in] N dimensione\n",
    "    @param[in] A matrice del sistema lineare (in forma di array 1d)\n",
    "    @param[in] b vettore RHS\n",
    "    \n",
    "    @param[out] b soluzione\n",
    "    \"\"\"\n",
    "    \n",
    "    A = np.reshape(A, (N, N)).astype(float)\n",
    "    b = b.astype(float)\n",
    "    y = np.zeros(N, dtype=float)\n",
    "\n",
    "    # Decomposizione LU\n",
    "    for k in range(N):\n",
    "        for j in range(k, N):\n",
    "            s = sum(A[k, l] * A[l, j] for l in range(k))\n",
    "            A[k, j] -= s\n",
    "        for i in range(k + 1, N):\n",
    "            s = sum(A[i, l] * A[l, k] for l in range(k))\n",
    "            A[i, k] = (A[i, k] - s) / A[k, k]\n",
    "\n",
    "    # Risoluzione del sistema Ly = b\n",
    "    for i in range(N):\n",
    "        s = sum(A[i, k] * y[k] for k in range(i))\n",
    "        y[i] = b[i] - s\n",
    "        \n",
    "\n",
    "    # Risoluzione del sistema Ux = y\n",
    "    for i in range(N-1, -1, -1):\n",
    "        s = sum(A[i, k] * y[k] for k in range(i + 1, N))\n",
    "        y[i] = (y[i] - s) / A[i, i]\n",
    "\n",
    "    return y"
   ]
  },
  {
   "cell_type": "code",
   "execution_count": 4,
   "metadata": {},
   "outputs": [],
   "source": [
    "# Matrice X (presente nel file Xmatrix.txt)\n",
    "matrix_X = np.array([\n",
    "    [-6.062318975995, -2.7035145378486, -1.3791297022073, -1.1560379218819, 0.9945298432345],\n",
    "    [-2.7035145378484, -36.614334897499, -19.661016795757, -16.118322843694, 13.72123874411],\n",
    "    [-1.3791297022073, -19.661016795755, -61.470169990529, -58.473674584098, 48.222943967389],\n",
    "    [-1.1560379218819, -16.11832284369, -58.473674584092, -77.462156522493, 76.704588938941],\n",
    "    [0.99452984323413, 13.72123874411, 48.222943967387, 76.704588938938, -184.4680681132]\n",
    "])\n",
    "\n",
    "# Vettore P (presente nel file Pmatrix.txt)\n",
    "vector_P = np.array([\n",
    "    1.5356886500456,\n",
    "    0.67393923527722,\n",
    "    0.34442727115984,\n",
    "    0.28872377588438,\n",
    "    -0.24838569317319\n",
    "])\n",
    "\n",
    "basesC_average_volume = np.array([\n",
    "    0.4908408929028,\n",
    "    0.21540625177888,\n",
    "    0.11008676095324,\n",
    "    0.092282661562384,\n",
    "    -0.079389696223766\n",
    "])"
   ]
  },
  {
   "cell_type": "code",
   "execution_count": 5,
   "metadata": {},
   "outputs": [
    {
     "name": "stdout",
     "output_type": "stream",
     "text": [
      "7.6e-10 35200.836707954004 5.64e-25 13834.073685636247 8e-40\n",
      "Fission yield OF 3.9853869146462966e-25\n"
     ]
    }
   ],
   "source": [
    "def turnbull_diffusion(temperature, fission_rate):\n",
    "    boltzmann_constant=1.380649e-23\n",
    "    d1_sciantix = 7.6e-10 * np.exp(-4.86e-19 / (boltzmann_constant * temperature))\n",
    "    d2_sciantix = 4.0 * 1.41e-25 * np.sqrt(fission_rate) * np.exp(-1.91e-19 / (boltzmann_constant * temperature))\n",
    "    d3_sciantix = 8.0e-40 * fission_rate\n",
    "    diff_turnbull_sciantix = d1_sciantix + d2_sciantix + d3_sciantix\n",
    "    return diff_turnbull_sciantix\n",
    "\n",
    "grain_radius = 1e-5\n",
    "\n",
    "def C1 (temperature, fission_rate): \n",
    "    C1 = turnbull_diffusion(temperature, fission_rate)/pow(grain_radius,2);\n",
    "    return C1\n",
    "\n",
    "def source_term (fission_rate, fission_yield): \n",
    "    source_term = fission_rate * fission_yield\n",
    "    return source_term\n",
    "\n",
    "dimC = 5\n",
    "\n",
    "#Valori da mettere in OF-8\n",
    "boltzmann_constant=1.380649e-23\n",
    "D1 = 7.6e-10\n",
    "E1 = 4.86e-19 / boltzmann_constant\n",
    "D2 = 4.0 * 1.41e-25\n",
    "E2 = 1.91e-19 / boltzmann_constant\n",
    "D3 = 8.0e-40\n",
    "print(D1, E1, D2, E2, D3)\n",
    "\n",
    "print('Fission yield OF', 0.24/6.022e23)"
   ]
  },
  {
   "cell_type": "code",
   "execution_count": 6,
   "metadata": {},
   "outputs": [
    {
     "data": {
      "image/png": "[encoded data removed]",
      "text/plain": [
       "<Figure size 500x500 with 1 Axes>"
      ]
     },
     "metadata": {},
     "output_type": "display_data"
    }
   ],
   "source": [
    "#Da mettere qui altrimenti cosi se rilancio il codice vengono ri-inizializzate\n",
    "initial_condition = np.zeros(dimC)\n",
    "lhs_C = np.zeros((dimC, dimC))\n",
    "rhs_C = np.zeros((dimC))\n",
    "I_C = np.eye(dimC)\n",
    "\n",
    "# Time loop\n",
    "t_end = 1e7  # end time\n",
    "time_step = 1000 #quanti time step voglio\n",
    "dt = t_end/time_step  # time step\n",
    "t = 0.0  # current time\n",
    "step = 1\n",
    "solution_vector = np.zeros((int(time_step)+2,))\n",
    "\n",
    "temperature = 2145\n",
    "fission_rate = 3e19\n",
    "fission_yield = 0.24\n",
    "\n",
    "\n",
    "while t <= t_end:\n",
    "    for i in range(dimC):\n",
    "            for j in range(dimC):\n",
    "                lhs_C[i, j] = I_C[i, j] - C1(temperature, fission_rate) * dt * matrix_X[i, j]\n",
    "\n",
    "    # RHS temperatura\n",
    "    for i in range(dimC):\n",
    "        rhs_C[i] = initial_condition[i] + source_term(fission_rate, fission_yield) * dt * vector_P[i]\n",
    "\n",
    "    x = lu_gauss(dimC, lhs_C.flatten(), rhs_C)\n",
    "    #x = solve(lhs_C, rhs_C)   #con il solver di python\n",
    "\n",
    "    # Aggiornamento di initial_condition con rhs_T\n",
    "    for i in range(dimC):\n",
    "        initial_condition[i] = x[i]\n",
    "\n",
    "    solution = 0.0\n",
    "    for i in range(dimC):\n",
    "        solution += basesC_average_volume[i] * x[i]\n",
    "\n",
    "    # Store solution in solution vector\n",
    "    solution_vector[step] = solution\n",
    "\n",
    "    t += dt \n",
    "    step += 1  # increment time step index\n",
    "\n",
    "\n",
    "high_fidelity=np.loadtxt(\"volFieldValue.dat\")\n",
    "timeOF=high_fidelity[:,0]/3600 #hour\n",
    "xeOF=high_fidelity[:,1]*6.022e23\n",
    "\n",
    "fig, (ax1) = plt.subplots(1,  figsize=(5,5)) \n",
    "ax1.plot(timeOF,xeOF, '--',label='High-Fidelity', color='#0072bd', linewidth=1.5)\n",
    "\n",
    "ax1.plot(np.arange(0, t_end + 2*dt, dt)/(60*60), solution_vector)\n",
    "plt.xlabel('Time')\n",
    "plt.ylabel('Xe in grain (at/m3)')\n",
    "plt.savefig(\"Comparison.pdf\", bbox_inches=\"tight\")"
   ]
  },
  {
   "cell_type": "code",
   "execution_count": 7,
   "metadata": {},
   "outputs": [
    {
     "name": "stdout",
     "output_type": "stream",
     "text": [
      "Maximum error between SCIANTIX and HF = 0.382676206429004 (%).\n"
     ]
    },
    {
     "data": {
      "image/png": "[encoded data removed]",
      "text/plain": [
       "<Figure size 640x480 with 1 Axes>"
      ]
     },
     "metadata": {},
     "output_type": "display_data"
    }
   ],
   "source": [
    "error = np.zeros(np.size(timeOF))\n",
    "for i in range (1, np.size(timeOF)): \n",
    "    error[i]= (abs(xeOF[i]-solution_vector[i])/xeOF[i])*100\n",
    "\n",
    "plt.plot(figsize=[5,5])\n",
    "plt.plot(timeOF,error, color='#FF7F50', linewidth=1.5)\n",
    "plt.grid(which='both', alpha=0.3)\n",
    "plt.xlabel('Time (h)')\n",
    "plt.ylabel('Relative error (%)')\n",
    "plt.savefig(\"Error.pdf\", bbox_inches=\"tight\")\n",
    "\n",
    "print(F'Maximum error between SCIANTIX and HF = {max(error)} (%).')"
   ]
  },
  {
   "cell_type": "code",
   "execution_count": null,
   "metadata": {},
   "outputs": [],
   "source": []
  }
 ],
 "metadata": {
  "kernelspec": {
   "display_name": "Python 3",
   "language": "python",
   "name": "python3"
  },
  "language_info": {
   "codemirror_mode": {
    "name": "ipython",
    "version": 3
   },
   "file_extension": ".py",
   "mimetype": "text/x-python",
   "name": "python",
   "nbconvert_exporter": "python",
   "pygments_lexer": "ipython3",
   "version": "3.9.6"
  }
 },
 "nbformat": 4,
 "nbformat_minor": 2
}
