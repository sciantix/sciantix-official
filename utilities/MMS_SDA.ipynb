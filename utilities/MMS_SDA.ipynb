{
 "cells": [
  {
   "cell_type": "code",
   "execution_count": 25,
   "metadata": {},
   "outputs": [
    {
     "name": "stdout",
     "output_type": "stream",
     "text": [
      "laplacian_r = -15.0*t*exp(t)*sin(t)\n",
      "partial derivative time = t*(2.5 - 2.5*r**2)*exp(t)*sin(t) + t*(2.5 - 2.5*r**2)*exp(t)*cos(t) + (2.5 - 2.5*r**2)*exp(t)*sin(t)\n",
      "Summation:\n",
      "-t*(2.5 - 2.5*r**2)*exp(t)*sin(t) - t*(2.5 - 2.5*r**2)*exp(t)*cos(t) - 30.0*t*exp(t)*sin(t) - (2.5 - 2.5*r**2)*(-t*(2.5 - 2.5*r**2)*exp(t)*sin(t) - t*(2.5 - 2.5*r**2)*exp(t)*cos(t) - (2.5 - 2.5*r**2)*exp(t)*sin(t)) - (2.5 - 2.5*r**2)*exp(t)*sin(t)\n",
      "Simplified summation:\n",
      "(2.5*t*(r**2 - 1)*sin(t) + 2.5*t*(r**2 - 1)*cos(t) - 30.0*t*sin(t) + 6.25*(r**2 - 1)**2*(sqrt(2)*t*sin(t + pi/4) + sin(t)) + (2.5*r**2 - 2.5)*sin(t))*exp(t)\n"
     ]
    }
   ],
   "source": [
    "import sympy as sp\n",
    "\n",
    "# Define the symbolic variables\n",
    "r, t = sp.symbols('r t')\n",
    "D = sp.Symbol('D')\n",
    "S = sp.Symbol('S')\n",
    "L = sp.Symbol('L')\n",
    "\n",
    "# Define the function c(r, t)\n",
    "# c = (1-sp.exp(-t)) * (1 - r**2)\n",
    "# c = (1-sp.exp(-t)) * (1 - r**2) * sp.sin(t)\n",
    "# c =  (1 - r**2)  * t * sp.exp(t) * sp.sin(t)\n",
    "\n",
    "R = 15 / 6 * (1 - r**2)\n",
    "T = sp.exp(t) * t * sp.sin(t)\n",
    "D = 1\n",
    "S = - 15 * T\n",
    "\n",
    "c = R*T\n",
    "\n",
    "# Compute the spherical laplacian\n",
    "laplacian_r = (1 / r**2) * sp.diff(r**2 * sp.diff(c, r), r)\n",
    "print(f\"laplacian_r = {laplacian_r}\")\n",
    "\n",
    "# Compute the partial derivative with respect to t\n",
    "partial_derivative_t = sp.diff(c, t)\n",
    "print(f\"partial derivative time = {partial_derivative_t}\")\n",
    "\n",
    "L = - partial_derivative_t / T\n",
    "\n",
    "# Define the decay term\n",
    "decay_term = L * c\n",
    "\n",
    "# Sum the Laplacian, the partial derivative with respect to t, and the decay term\n",
    "summation = D*laplacian_r - decay_term + S - partial_derivative_t\n",
    "\n",
    "# Define L based on D\n",
    "# L = -sp.exp(-t) / (1 - sp.exp(-t))\n",
    "# S = 1\n",
    "# D = S/(6*(1-sp.exp(-t)))\n",
    "\n",
    "# Simplify the summation\n",
    "simplified_summation = sp.simplify(summation)\n",
    "\n",
    "# Print the simplified summation\n",
    "print(f\"Summation:\\n{summation}\")\n",
    "\n",
    "print(f\"Simplified summation:\\n{simplified_summation}\")\n"
   ]
  }
 ],
 "metadata": {
  "kernelspec": {
   "display_name": "base",
   "language": "python",
   "name": "python3"
  },
  "language_info": {
   "codemirror_mode": {
    "name": "ipython",
    "version": 3
   },
   "file_extension": ".py",
   "mimetype": "text/x-python",
   "name": "python",
   "nbconvert_exporter": "python",
   "pygments_lexer": "ipython3",
   "version": "3.12.2"
  }
 },
 "nbformat": 4,
 "nbformat_minor": 2
}
