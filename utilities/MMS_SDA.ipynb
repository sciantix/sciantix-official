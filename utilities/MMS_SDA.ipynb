{
 "cells": [
  {
   "cell_type": "code",
   "execution_count": 64,
   "metadata": {},
   "outputs": [
    {
     "name": "stdout",
     "output_type": "stream",
     "text": [
      "Summation:\n",
      "-r**2/6\n",
      "Simplified summation:\n",
      "-r**2/6\n"
     ]
    }
   ],
   "source": [
    "import sympy as sp\n",
    "\n",
    "# Define the symbolic variables\n",
    "r, t = sp.symbols('r t')\n",
    "D = sp.Symbol('D')\n",
    "S = sp.Symbol('S')\n",
    "L = sp.Symbol('L')\n",
    "\n",
    "# Define L based on D\n",
    "# L = D + sp.pi**2\n",
    "L = -1\n",
    "S = 1\n",
    "D = -sp.exp(-t)/6\n",
    "\n",
    "# Define the function c(r, t)\n",
    "c = sp.exp(t) * S * D * r**2\n",
    "\n",
    "# Compute the spherical laplacian\n",
    "laplacian_r = (1 / r**2) * sp.diff(r**2 * sp.diff(c, r), r)\n",
    "\n",
    "# Compute the partial derivative with respect to t\n",
    "partial_derivative_t = sp.diff(c, t)\n",
    "\n",
    "# Define the decay term\n",
    "decay_term = L * c\n",
    "\n",
    "# Sum the Laplacian, the partial derivative with respect to t, and the decay term\n",
    "summation = laplacian_r - decay_term + S - partial_derivative_t\n",
    "\n",
    "# Simplify the summation\n",
    "simplified_summation = sp.simplify(summation)\n",
    "\n",
    "# Print the simplified summation\n",
    "print(f\"Summation:\\n{summation}\")\n",
    "\n",
    "print(f\"Simplified summation:\\n{simplified_summation}\")\n"
   ]
  }
 ],
 "metadata": {
  "kernelspec": {
   "display_name": "base",
   "language": "python",
   "name": "python3"
  },
  "language_info": {
   "codemirror_mode": {
    "name": "ipython",
    "version": 3
   },
   "file_extension": ".py",
   "mimetype": "text/x-python",
   "name": "python",
   "nbconvert_exporter": "python",
   "pygments_lexer": "ipython3",
   "version": "3.12.2"
  }
 },
 "nbformat": 4,
 "nbformat_minor": 2
}
